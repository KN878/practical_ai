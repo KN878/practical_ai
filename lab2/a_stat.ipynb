{
 "cells": [
  {
   "cell_type": "code",
   "execution_count": 1,
   "metadata": {},
   "outputs": [],
   "source": [
    "import numpy as np\n",
    "\n",
    "# distance between a and b\n",
    "def d(a, b):\n",
    "    return np.sqrt((a[0]-b[0])**2 + (a[1]-b[1])**2) \n",
    "\n",
    "\n",
    "# how far did we go?\n",
    "def g(lab, dist, position, destination):\n",
    "    return dist\n",
    "\n",
    "\n",
    "# lower-bound estimation for remaining path\n",
    "def h(lab, dist, position, destination):\n",
    "    return d(position, destination)\n",
    "\n",
    "\n",
    "def A_star(lab, dist, position, destination):\n",
    "    neighbours = [\n",
    "                    (1, 0), (0, 1), (-1, 0), (0, -1),\n",
    "                    (1, 1), (-1, 1), (1, -1), (-1, -1),\n",
    "                 ]   # 9-neghbourhood\n",
    "    candidates = []  # where go next?\n",
    "    \n",
    "    for neighbour in neighbours:\n",
    "        candidate = (position[0] + neighbour[0], position[1] + neighbour[1]) \n",
    "        # it is inside labyrinth\n",
    "        if 0 <= candidate[0] < len(lab) and 0 <= candidate[1] < len(lab[0]):\n",
    "            # it is accessible\n",
    "            if lab[candidate[0]][candidate[1]] == 0:\n",
    "                candidates.append(candidate)\n",
    "\n",
    "    # best choise\n",
    "    result, estimation = position, 10000000\n",
    "    for candidate in candidates:\n",
    "        new_dist = dist + d(position, candidate)\n",
    "        A = g(lab, new_dist, candidate, destination) + \\\n",
    "            h(lab, new_dist, candidate, destination)\n",
    "        # print(A, candidate)\n",
    "        if A < estimation:\n",
    "            result, estimation = candidate, A\n",
    "    lab[result[0]][result[1]] = 2   # visited\n",
    "    return result, d(result, position)"
   ]
  },
  {
   "cell_type": "code",
   "execution_count": 2,
   "metadata": {},
   "outputs": [],
   "source": [
    "import matplotlib.pyplot as plt\n",
    "\n",
    "def show(matr):\n",
    "    plt.imshow(matr)\n",
    "    plt.show()"
   ]
  },
  {
   "cell_type": "code",
   "execution_count": 3,
   "metadata": {},
   "outputs": [
    {
     "name": "stdout",
     "output_type": "stream",
     "text": [
      "Go to (19, 19)\n"
     ]
    },
    {
     "data": {
      "image/png": "[encoded data removed]",
      "text/plain": [
       "<Figure size 432x288 with 1 Axes>"
      ]
     },
     "metadata": {
      "needs_background": "light"
     },
     "output_type": "display_data"
    }
   ],
   "source": [
    "import time\n",
    "from IPython.display import clear_output\n",
    "\n",
    "size = 20\n",
    "line = list([0] * size)\n",
    "lab = [list(line) for i in range(size)]\n",
    "\n",
    "lab[0][0] = 3\n",
    "lab[7][10] = 1\n",
    "lab[8][10] = 1\n",
    "lab[9][10] = 1\n",
    "lab[9][9] = 1\n",
    "lab[9][8] = 1\n",
    "\n",
    "start = (0, 0)\n",
    "finish = (size-1, size-1)\n",
    "passed = 0\n",
    "while start != finish:\n",
    "    clear_output()\n",
    "    start, delta = A_star(lab, passed, start, finish)\n",
    "    print(\"Go to\", start)\n",
    "    show(lab)\n",
    "    time.sleep(0.3)\n",
    "    passed += delta"
   ]
  },
  {
   "cell_type": "code",
   "execution_count": null,
   "metadata": {},
   "outputs": [],
   "source": []
  }
 ],
 "metadata": {
  "kernelspec": {
   "display_name": "Python 3",
   "language": "python",
   "name": "python3"
  },
  "language_info": {
   "codemirror_mode": {
    "name": "ipython",
    "version": 3
   },
   "file_extension": ".py",
   "mimetype": "text/x-python",
   "name": "python",
   "nbconvert_exporter": "python",
   "pygments_lexer": "ipython3",
   "version": "3.6.9"
  }
 },
 "nbformat": 4,
 "nbformat_minor": 4
}
