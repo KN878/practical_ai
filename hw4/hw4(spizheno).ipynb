{
 "cells": [
  {
   "cell_type": "code",
   "execution_count": 1,
   "metadata": {},
   "outputs": [
    {
     "name": "stderr",
     "output_type": "stream",
     "text": [
      "C:\\Users\\Tilam\\AppData\\Roaming\\Python\\Python37\\site-packages\\ipykernel_launcher.py:12: DeprecationWarning: The StanfordParser will be deprecated\n",
      "Please use \u001b[91mnltk.parse.corenlp.CoreNLPParser\u001b[0m instead.\n",
      "  if sys.path[0] == '':\n"
     ]
    }
   ],
   "source": [
    "import nltk\n",
    "import os\n",
    "from nltk.parse import stanford\n",
    "from nltk.tree import ParentedTree, Tree\n",
    "from urllib.parse import quote\n",
    "import requests\n",
    "from bs4 import BeautifulSoup\n",
    "\n",
    "os.environ['CLASSPATH'] = 'C:\\Jars\\stanford\\stanford-parser.jar'\n",
    "os.environ['STANFORD_MODELS'] = 'C:\\Jars\\stanford\\stanford-parser-3.9.2-models.jar'\n",
    "\n",
    "parser = stanford.StanfordParser(model_path='C:\\Jars\\englishPCFG.ser.gz')\n"
   ]
  },
  {
   "cell_type": "markdown",
   "metadata": {},
   "source": [
    "# Object-Action-Subject"
   ]
  },
  {
   "cell_type": "code",
   "execution_count": 2,
   "metadata": {},
   "outputs": [],
   "source": [
    "def sentence_process(text):\n",
    "    roots = list(parser.raw_parse(text))\n",
    "    root = roots[0]\n",
    "    parented_tree = ParentedTree.convert(root)\n",
    "    noun_types = ['NN', 'NNP', 'NNPS', 'NNS', 'CC', 'CD', 'IN']\n",
    "    noun_phrases = ['NN', 'NNP', 'NNPS', 'NNS', 'CC', 'CD', 'PRP', 'WP', 'IN']\n",
    "    verb_types = [\"VB\", \"VBD\", \"VBG\", \"VBN\", \"VBP\", \"VBZ\"]\n",
    "    sentence_starts = [\"S\", \"SQ\", \"SBAR\", \"SBARQ\", \"SINV\", \"FRAG\"]\n",
    "\n",
    "    subjects = []\n",
    "    actions = []\n",
    "    objects = []\n",
    "\n",
    "    result = []\n",
    "    for tree in parented_tree.subtrees():\n",
    "        if tree.label() in sentence_starts:\n",
    "            for subtree in tree.subtrees():\n",
    "                if subtree.label() in sentence_starts and subtree != tree:\n",
    "                    break\n",
    "                if len(actions) > 0:\n",
    "                    result.append([subjects, actions, objects])\n",
    "                    subjects = []\n",
    "                    actions = []\n",
    "                    objects = []\n",
    "                    break\n",
    "                if subtree.label() == 'VP':\n",
    "                    for sub in subtree.subtrees():\n",
    "                        if sub.label() in verb_types:\n",
    "                            actions += sub.leaves()\n",
    "                        elif sub.label() in noun_types:\n",
    "                            objects += sub.leaves()\n",
    "\n",
    "                elif subtree.label() == 'NP' and subtree.parent().label() in sentence_starts:\n",
    "                    for sub in subtree.subtrees():\n",
    "                        if sub.label() in noun_phrases:\n",
    "                            subjects += sub.leaves()\n",
    "    return result\n",
    "                        \n",
    "\n",
    "        "
   ]
  },
  {
   "cell_type": "code",
   "execution_count": 3,
   "metadata": {},
   "outputs": [],
   "source": [
    "APP_NAME = \"Easy Solver\"\n",
    "APPID = 'U52H8L-9U3QYJEA8L'\n",
    "API = \"http://api.wolframalpha.com/v2/query?input={}&appid={}\"\n",
    "\n",
    "def ask(query):\n",
    "    resp = requests.get(API.format(query, APPID))\n",
    "    if resp.status_code != 200:\n",
    "        return None\n",
    "    dom = BeautifulSoup(resp.text, \"lxml\")\n",
    "    result = dom.queryresult.findAll(\"pod\", id=\"Solution\")\n",
    "    \n",
    "    # print(result)\n",
    "    \n",
    "    if not result:\n",
    "        result = dom.queryresult.findAll(\"pod\", id=\"Result\")\n",
    "    if not result:\n",
    "        result = dom.queryresult.findAll(\"pod\", id=\"ChemicalNamesFormulas:ChemicalData\")\n",
    "        \n",
    "    subpods = result[0].findAll(\"subpod\")\n",
    "    return list(pod.plaintext.string for pod in subpods)"
   ]
  },
  {
   "cell_type": "code",
   "execution_count": 4,
   "metadata": {},
   "outputs": [
    {
     "data": {
      "text/plain": [
       "[[[], ['calculate'], ['six', 'plus', 'one', 'million']]]"
      ]
     },
     "execution_count": 4,
     "metadata": {},
     "output_type": "execute_result"
    }
   ],
   "source": [
    "sentence_process('calculate six plus one million')"
   ]
  },
  {
   "cell_type": "markdown",
   "metadata": {},
   "source": [
    "# Predefined action-object"
   ]
  },
  {
   "cell_type": "code",
   "execution_count": 5,
   "metadata": {},
   "outputs": [],
   "source": [
    "wolfram_actions = ['calculate', 'evalute', 'subtract', 'multiply', 'divide']\n",
    "web_actions = ['tell', 'read', 'find']\n",
    "music_actions = ['play', 'listen']"
   ]
  },
  {
   "cell_type": "code",
   "execution_count": null,
   "metadata": {
    "scrolled": true
   },
   "outputs": [
    {
     "name": "stdout",
     "output_type": "stream",
     "text": [
      "Query:Could i listen mozart\n",
      "Subjects: ['Could', 'i']\n",
      "Actions: ['listen']\n",
      "Objects: ['mozart']\n",
      "https://music.yandex.ru/search?text=mozart%20\n"
     ]
    }
   ],
   "source": [
    "while True:\n",
    "    query = input('Query:')\n",
    "    results = sentence_process(query)\n",
    "    for result in results:\n",
    "        print(f'Subjects: {result[0]}')\n",
    "        print(f'Actions: {result[1]}')\n",
    "        print(f'Objects: {result[2]}')\n",
    "        objects = ''\n",
    "        for obj in result[2]:\n",
    "            objects += obj + ' '\n",
    "            \n",
    "        out = 'This action is not predefined'\n",
    "        \n",
    "        for action in result[1]:\n",
    "            if action.lower() in wolfram_actions:\n",
    "                out = ask(action + ' '  + objects)[0]\n",
    "            elif action.lower()  in web_actions:\n",
    "                out = 'https://yandex.ru/search/search?text=' + objects.replace(' ', '%20')\n",
    "            elif action.lower()  in music_actions:\n",
    "                out = 'https://music.yandex.ru/search?text=' + objects.replace(' ', '%20')\n",
    "        print (out)"
   ]
  }
 ],
 "metadata": {
  "kernelspec": {
   "display_name": "Python 3",
   "language": "python",
   "name": "python3"
  },
  "language_info": {
   "codemirror_mode": {
    "name": "ipython",
    "version": 3
   },
   "file_extension": ".py",
   "mimetype": "text/x-python",
   "name": "python",
   "nbconvert_exporter": "python",
   "pygments_lexer": "ipython3",
   "version": "3.6.9"
  }
 },
 "nbformat": 4,
 "nbformat_minor": 4
}
