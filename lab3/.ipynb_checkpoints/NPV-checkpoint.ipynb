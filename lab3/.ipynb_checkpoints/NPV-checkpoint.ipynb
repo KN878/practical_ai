{
 "cells": [
  {
   "cell_type": "code",
   "execution_count": 1,
   "metadata": {},
   "outputs": [],
   "source": [
    "# find discount rate, that will give positive NPV for a given cash flow\n",
    "# search for real roots only\n",
    "import sympy\n",
    "from sympy import S, Eq\n",
    "from sympy.solvers import solveset"
   ]
  },
  {
   "cell_type": "code",
   "execution_count": 2,
   "metadata": {},
   "outputs": [],
   "source": [
    "def discount_rate(cashflow, npv):\n",
    "    '''\n",
    "    cashflow - an array of [-C0, C1, C2, ...] first negative and then positive numbers\n",
    "    npv - expected value of NPV\n",
    "    '''\n",
    "    \n",
    "    r = sympy.symbols('r')  # value we are looking for. Use sumpy to solve for 'r'\n",
    "    T = len(cashflow) - 1   # in case you need it\n",
    "    sum = -cashfl \n",
    "\n",
    "    for i in range(1, T):\n",
    "        \n",
    "    \n",
    "    print(sum)\n",
    "    x = solveset(Eq(sum, npv), r, domain=S.Reals)\n",
    "\n",
    "    for i in x:\n",
    "        if i.evalf() > 0:\n",
    "            return i.evalf()\n",
    "    \n",
    "    raise Error(\"No real solution found\")\n",
    "        "
   ]
  },
  {
   "cell_type": "code",
   "execution_count": 3,
   "metadata": {},
   "outputs": [
    {
     "name": "stdout",
     "output_type": "stream",
     "text": [
      "-100 + 50/(r + 1) + 50/(r + 1)**2 + 50/(r + 1)**3\n",
      "0.233751928528259\n"
     ]
    }
   ],
   "source": [
    "print(discount_rate([-100, 50, 50, 50], 0))"
   ]
  },
  {
   "cell_type": "code",
   "execution_count": null,
   "metadata": {
    "collapsed": true,
    "jupyter": {
     "outputs_hidden": true
    }
   },
   "outputs": [],
   "source": []
  }
 ],
 "metadata": {
  "kernelspec": {
   "display_name": "Python 3",
   "language": "python",
   "name": "python3"
  },
  "language_info": {
   "codemirror_mode": {
    "name": "ipython",
    "version": 3
   },
   "file_extension": ".py",
   "mimetype": "text/x-python",
   "name": "python",
   "nbconvert_exporter": "python",
   "pygments_lexer": "ipython3",
   "version": "3.6.9"
  }
 },
 "nbformat": 4,
 "nbformat_minor": 4
}
