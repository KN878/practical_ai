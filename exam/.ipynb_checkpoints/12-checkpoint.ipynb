{
 "cells": [
  {
   "cell_type": "markdown",
   "metadata": {},
   "source": [
    "<h2>Для работы нужно поднять сервис на гугле с SpeechToText и TextToSpeech API и скачать его credentials. Также поставить PyAudio, Playsound и SymPy<h2>"
   ]
  },
  {
   "cell_type": "code",
   "execution_count": 123,
   "metadata": {},
   "outputs": [],
   "source": [
    "from google.cloud import texttospeech\n",
    "from google.cloud import speech\n",
    "from google.oauth2 import service_account\n",
    "\n",
    "import pyaudio\n",
    "from playsound import playsound\n",
    "from sympy.parsing.sympy_parser import parse_expr, standard_transformations, implicit_multiplication_application\n",
    "from sympy.abc import x\n",
    "from sympy import S, Eq, E\n",
    "from sympy.solvers import solveset"
   ]
  },
  {
   "cell_type": "code",
   "execution_count": 51,
   "metadata": {},
   "outputs": [],
   "source": [
    "RATE = 22050"
   ]
  },
  {
   "cell_type": "code",
   "execution_count": 52,
   "metadata": {},
   "outputs": [],
   "source": [
    "def record_voice(player, seconds=4):\n",
    "    CHUNK = 1024\n",
    "    FORMAT = pyaudio.paInt16\n",
    "    CHANNELS = 1\n",
    "    RECORD_SECONDS = seconds\n",
    "\n",
    "    stream = player.open(\n",
    "                input=True,\n",
    "                format=FORMAT,\n",
    "                channels=CHANNELS,\n",
    "                rate=RATE,\n",
    "                frames_per_buffer=CHUNK)\n",
    "\n",
    "    print(\"Start recording... \", end=\"\")\n",
    "    frames = []\n",
    "    for i in range(0, int(RATE / CHUNK * RECORD_SECONDS)):\n",
    "        data = stream.read(CHUNK)\n",
    "        frames.append(data)\n",
    "    print(\"recorded\", seconds, \"second(s)\")\n",
    "    stream.stop_stream()\n",
    "    stream.close()\n",
    "\n",
    "    return frames"
   ]
  },
  {
   "cell_type": "code",
   "execution_count": 53,
   "metadata": {},
   "outputs": [],
   "source": [
    "def get_response_text(responses):\n",
    "    #достаем распознанный гуглом текст из ответа\n",
    "    transcripts = []\n",
    "    for response in responses:\n",
    "        if not response.results:\n",
    "            continue\n",
    "\n",
    "        result = response.results[0]\n",
    "\n",
    "        if not result.alternatives:\n",
    "            continue\n",
    "\n",
    "        transcripts.append(result.alternatives[0].transcript)\n",
    "    return transcripts[-1]"
   ]
  },
  {
   "cell_type": "code",
   "execution_count": 54,
   "metadata": {},
   "outputs": [],
   "source": [
    "#настраиваем клиент по доке гугла, записываем и отправляем ауидо в SpeechToText и получаем транскрипт записи\n",
    "def speech_to_text(client, language_code, player):\n",
    "    config = speech.types.RecognitionConfig(\n",
    "        encoding=speech.enums.RecognitionConfig.AudioEncoding.LINEAR16,\n",
    "        sample_rate_hertz=RATE,\n",
    "        language_code=language_code)\n",
    "    streaming_config = types.StreamingRecognitionConfig(\n",
    "        config=config,\n",
    "        interim_results=True)\n",
    "    \n",
    "    frames = record_voice(player)\n",
    "    \n",
    "    requests = (types.StreamingRecognizeRequest(audio_content=content)\n",
    "                for content in frames)\n",
    "\n",
    "    responses = client.streaming_recognize(streaming_config, requests)\n",
    "    return get_response_text(responses)"
   ]
  },
  {
   "cell_type": "code",
   "execution_count": 149,
   "metadata": {},
   "outputs": [],
   "source": [
    "# вычисляем наш экспрешион\n",
    "def calculate(expr) :\n",
    "    # парсим экспершион в нормальный вид\n",
    "    def preprocess_equation():\n",
    "        parse_dict = {'икс':'x', 'х':'x', 'плюс':'+', 'минус':'-', 'умножить':'*', 'на':'', 'делить':'/'}\n",
    "        left_part = \"\"\n",
    "        right_part = \"\"\n",
    "        isEquation = False\n",
    "        for word in expr.lower().split(' '):\n",
    "            # нашли равно - значит это уравнение (часть 2 таски)\n",
    "            if word == 'равно':\n",
    "                isEquation = True\n",
    "            # парсим правую часть, чтобы потом запихнуть в solveset\n",
    "            elif isEquation:\n",
    "                if (word in parse_dict):\n",
    "                    right_part = right_part + parse_dict[word]\n",
    "                else:\n",
    "                    right_part = right_part + word\n",
    "            # парсим левую часть\n",
    "            else:\n",
    "                if (word in parse_dict):\n",
    "                    left_part = left_part + parse_dict[word]\n",
    "                else:\n",
    "                    left_part = left_part + word\n",
    "                    \n",
    "        #гугл сервис пишет умножить как 'x', поэтому если это численное выражение, то меняем 'x'на '*'\n",
    "        if not isEquation and 'x' in left_part:\n",
    "            left_part = left_part.replace('x', '*')\n",
    "        return (left_part, right_part)\n",
    "    \n",
    "    (eq, answer) = preprocess_equation() \n",
    "    # если уравнение, то парсим его части из строк в SymPy expression\n",
    "    transformations = (standard_transformations + (implicit_multiplication_application,))\n",
    "    if answer:\n",
    "        # чтобы x5 парсилось в x*5\n",
    "        left = parse_expr(eq, transformations=transformations, evaluate=True)\n",
    "        right = parse_expr(answer, transformations=transformations, evaluate=True)\n",
    "        x = sympy.symbols('x')\n",
    "        # решаем уравнение и достаем ответ из FiniteSet\n",
    "        return solveset(Eq(left, right), x, domain=S.Reals).args[0]\n",
    "    else:\n",
    "        # решаем обычный numerical expression\n",
    "        return parse_expr(eq, transformations=transformations, evaluate=True)"
   ]
  },
  {
   "cell_type": "code",
   "execution_count": 58,
   "metadata": {},
   "outputs": [],
   "source": [
    "# настраиваем клиент TextToSpeech, кидаем результат вычислений в сервис, получаем и воспроизводим mp3\n",
    "def text_to_speech(client, text, language, player):\n",
    "    import base64\n",
    "    synthesis_input = texttospeech.types.SynthesisInput(text=text)\n",
    "\n",
    "    voice = texttospeech.types.VoiceSelectionParams(\n",
    "        language_code=language,\n",
    "        ssml_gender=texttospeech.enums.SsmlVoiceGender.FEMALE)\n",
    "\n",
    "    audio_config = texttospeech.types.AudioConfig(audio_encoding=texttospeech.enums.AudioEncoding.MP3)\n",
    "    response = client.synthesize_speech(synthesis_input, voice, audio_config)\n",
    "    \n",
    "    with open('out.mp3', 'wb') as speech:\n",
    "        speech.write(response.audio_content)\n",
    "    playsound('out.mp3')"
   ]
  },
  {
   "cell_type": "code",
   "execution_count": 150,
   "metadata": {},
   "outputs": [
    {
     "name": "stdout",
     "output_type": "stream",
     "text": [
      "Start recording... recorded 4 second(s)\n",
      "5 - x равно 8\n",
      "-3\n"
     ]
    }
   ],
   "source": [
    "def main():\n",
    "    language = \"ru-RU\"\n",
    "    # создание SpeechToText и TextToSpeech клиентов\n",
    "    credentials = service_account.Credentials.from_service_account_file(\"/home/kn/practicalAI/exam/googleSpeech.json\")\n",
    "    clientSpeechToText = speech.SpeechClient(credentials=credentials)\n",
    "    clientTextToSpeech = texttospeech.TextToSpeechClient(credentials=credentials)\n",
    "    player = pyaudio.PyAudio()\n",
    "    \n",
    "    text = speech_to_text(clientSpeechToText, language, player)\n",
    "    print(text)\n",
    "    result = calculate(text)\n",
    "    print(result)\n",
    "    text_to_speech(clientTextToSpeech, str(result), language, player)\n",
    "    \n",
    "if __name__ == '__main__':\n",
    "    main()"
   ]
  },
  {
   "cell_type": "code",
   "execution_count": null,
   "metadata": {},
   "outputs": [],
   "source": []
  },
  {
   "cell_type": "code",
   "execution_count": null,
   "metadata": {},
   "outputs": [],
   "source": []
  }
 ],
 "metadata": {
  "kernelspec": {
   "display_name": "Python 3",
   "language": "python",
   "name": "python3"
  },
  "language_info": {
   "codemirror_mode": {
    "name": "ipython",
    "version": 3
   },
   "file_extension": ".py",
   "mimetype": "text/x-python",
   "name": "python",
   "nbconvert_exporter": "python",
   "pygments_lexer": "ipython3",
   "version": "3.6.9"
  }
 },
 "nbformat": 4,
 "nbformat_minor": 2
}
