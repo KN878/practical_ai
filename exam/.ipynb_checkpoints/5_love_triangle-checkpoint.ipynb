{
 "cells": [
  {
   "cell_type": "code",
   "execution_count": 1,
   "metadata": {},
   "outputs": [],
   "source": [
    "import nltk\n",
    "import math\n",
    "import matplotlib.pyplot as plt\n",
    "import networkx as nx"
   ]
  },
  {
   "cell_type": "code",
   "execution_count": 32,
   "metadata": {},
   "outputs": [
    {
     "name": "stdout",
     "output_type": "stream",
     "text": [
      "\n",
      "    Sents -> Sents NL Sen | Sen\n",
      "    Sen -> Name Res\n",
      "    Res -> Kn Name | Rel Name Intens | Rel Name\n",
      "    Rel -> 'hates' | 'loves'\n",
      "    Kn -> 'knows' | 'doesn’t' 'know'\n",
      "    Intens -> 'very' 'much' \n",
      "    NL -> \n",
      "\n",
      "Name -> 'A' | 'B' | 'C' | 'D' | 'E' | 'F' | 'G' | 'H' | 'I' | 'J' | 'K' | 'L' | 'M' | 'N' | 'O' | 'P' | 'Q' | 'R' | 'S' | 'T' | 'U' | 'V' | 'W' | 'X' | 'Y' \n"
     ]
    }
   ],
   "source": [
    "tokens = \"\"\"A loves B\n",
    "B loves C very much\n",
    "C loves A\n",
    "A hates C\n",
    "K doesn’t know A\n",
    "A knows K\n",
    "K hates C very much\n",
    "L loves K\n",
    "K loves L\n",
    "K loves N very much\n",
    "K loves M\n",
    "M hates K very much\n",
    "\"\"\".split()\n",
    "my_grammar= (\"\"\"\n",
    "    Sents -> Sents NL Sen | Sen\n",
    "    Sen -> Name Res\n",
    "    Res -> Kn Name | Rel Name Intens | Rel Name\n",
    "    Rel -> 'hates' | 'loves'\n",
    "    Kn -> 'knows' | 'doesn’t' 'know'\n",
    "    Intens -> 'very' 'much' \n",
    "    NL -> \\n\n",
    "\"\"\")\n",
    "\n",
    "from string import ascii_uppercase\n",
    "letters = \"Name -> '\"+(\"' | '\".join(ascii_uppercase))[:-4]\n",
    "my_grammar+=letters\n",
    "print(my_grammar)"
   ]
  },
  {
   "cell_type": "code",
   "execution_count": 33,
   "metadata": {},
   "outputs": [],
   "source": [
    "grammar = nltk.CFG.fromstring(my_grammar)\n",
    "parser = nltk.ChartParser(grammar)\n",
    "trees = list(parser.parse(tokens))"
   ]
  },
  {
   "cell_type": "code",
   "execution_count": 34,
   "metadata": {},
   "outputs": [],
   "source": [
    "def traversKn(tree):\n",
    "    if (tree[0])=='doesn’t':\n",
    "        return math.inf\n",
    "    else:\n",
    "        return 0\n",
    "\n",
    "def traversRel(tree):\n",
    "    if (tree[0]=='hates'):\n",
    "        return -1\n",
    "    else:\n",
    "        return 1\n",
    "    \n",
    "def traverseRes(tree):\n",
    "    subj = tree[1][0]\n",
    "\n",
    "    if (tree[0].label()==\"Kn\"):\n",
    "        return subj, traversKn(tree[0])\n",
    "    else:\n",
    "        weight = traversRel(tree[0])\n",
    "       \n",
    "        if (len(tree)>2):\n",
    "            return subj, weight*2\n",
    "        else:\n",
    "            return subj, weight\n",
    "        \n",
    "    \n",
    "def traverseSent(tree):\n",
    "    obj = tree[0][0]\n",
    "    subj,w = traverseRes(tree[1])\n",
    "    print(obj,subj,w)\n",
    "    createEdge(obj,subj,w)\n",
    "    \n",
    "def traverse(tree):\n",
    "    for subtree in tree:\n",
    "        \n",
    "        if (subtree.label()==\"Sen\"):\n",
    "            traverseSent(subtree)\n",
    "        else:\n",
    "            traverse(subtree)"
   ]
  },
  {
   "cell_type": "code",
   "execution_count": 35,
   "metadata": {},
   "outputs": [],
   "source": [
    "def createEdge(obj,sub, weight):\n",
    "    G.add_edge(obj, sub, weight=weight)"
   ]
  },
  {
   "cell_type": "code",
   "execution_count": 36,
   "metadata": {},
   "outputs": [],
   "source": [
    "def findTriplets():\n",
    "    print(\"Triplets:\")\n",
    "    for a in G.nodes():\n",
    "        for b in G.nodes():\n",
    "            for c in G.nodes():\n",
    "                if G.get_edge_data(a,b)==None or G.get_edge_data(b,c)==None or G.get_edge_data(c,a)==None:\n",
    "                    continue\n",
    "               \n",
    "                if G.get_edge_data(a,b)['weight']>=0 and G.get_edge_data(b,c)['weight']>=0 and G.get_edge_data(c,a)['weight']>=0:\n",
    "                    print(\"Found\",a,b,c)"
   ]
  },
  {
   "cell_type": "code",
   "execution_count": 37,
   "metadata": {},
   "outputs": [
    {
     "name": "stdout",
     "output_type": "stream",
     "text": [
      "A B 1\n",
      "B C 2\n",
      "C A 1\n",
      "A C -1\n",
      "K A inf\n",
      "A K 0\n",
      "K C -2\n",
      "L K 1\n",
      "K L 1\n",
      "K N 2\n",
      "K M 1\n",
      "M K -2\n",
      "Triplets:\n",
      "Found A B C\n",
      "Found B C A\n",
      "Found C A B\n"
     ]
    },
    {
     "data": {
      "image/png": "[encoded data removed]",
      "text/plain": [
       "<Figure size 432x288 with 1 Axes>"
      ]
     },
     "metadata": {},
     "output_type": "display_data"
    }
   ],
   "source": [
    "G = nx.Graph().to_directed()\n",
    "\n",
    "traverse(trees[0])\n",
    "findTriplets()\n",
    "pos=nx.planar_layout(G) # pos = nx.nx_agraph.graphviz_layout(G)\n",
    "nx.draw_networkx(G,pos)\n",
    "labels = nx.get_edge_attributes(G,'weight')\n",
    "nx.draw_networkx_edge_labels(G,pos,edge_labels=labels)\n",
    "plt.show()"
   ]
  },
  {
   "cell_type": "code",
   "execution_count": null,
   "metadata": {},
   "outputs": [],
   "source": []
  }
 ],
 "metadata": {
  "kernelspec": {
   "display_name": "Python 3",
   "language": "python",
   "name": "python3"
  },
  "language_info": {
   "codemirror_mode": {
    "name": "ipython",
    "version": 3
   },
   "file_extension": ".py",
   "mimetype": "text/x-python",
   "name": "python",
   "nbconvert_exporter": "python",
   "pygments_lexer": "ipython3",
   "version": "3.6.9"
  }
 },
 "nbformat": 4,
 "nbformat_minor": 2
}
