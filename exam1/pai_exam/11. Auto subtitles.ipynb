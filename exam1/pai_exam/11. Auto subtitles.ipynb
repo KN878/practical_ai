{
 "cells": [
  {
   "cell_type": "markdown",
   "metadata": {},
   "source": [
    "# Auto subtitles"
   ]
  },
  {
   "cell_type": "code",
   "execution_count": 2,
   "metadata": {},
   "outputs": [],
   "source": [
    "from google.cloud import speech_v1p1beta1\n",
    "from google.cloud.speech_v1p1beta1 import enums\n",
    "from google.cloud import speech\n",
    "\n",
    "from pydub.utils import mediainfo\n",
    "\n",
    "from webvtt.structures import Caption\n",
    "from webvtt import WebVTT\n",
    "from path import Path\n",
    "\n",
    "import os\n",
    "import io\n",
    "import datetime"
   ]
  },
  {
   "cell_type": "code",
   "execution_count": 2,
   "metadata": {},
   "outputs": [],
   "source": [
    "# Audio and text taken from https://www.voiptroubleshooter.com/open_speech/american.html\n",
    "path = Path(os.path.abspath(os.getcwd()) + '\\\\speech59.wav')"
   ]
  },
  {
   "cell_type": "code",
   "execution_count": 3,
   "metadata": {},
   "outputs": [],
   "source": [
    "# Information about audio\n",
    "def audio_info(audio_filepath):\n",
    "\n",
    "    audio_data = mediainfo(audio_filepath)\n",
    "    channels = int(audio_data[\"channels\"])\n",
    "    sample_rate = float(audio_data[\"sample_rate\"])\n",
    "\n",
    "    return channels, sample_rate"
   ]
  },
  {
   "cell_type": "code",
   "execution_count": 4,
   "metadata": {},
   "outputs": [],
   "source": [
    "channels, sample_rate = audio_info(path)"
   ]
  },
  {
   "cell_type": "code",
   "execution_count": 5,
   "metadata": {},
   "outputs": [],
   "source": [
    "def recognize(audio_path, channels, sample_rate):\n",
    "    \n",
    "    client = speech_v1p1beta1.SpeechClient()\n",
    "\n",
    "    config = {\n",
    "        \"language_code\": \"en-US\",\n",
    "        \"sample_rate_hertz\": int(sample_rate),\n",
    "        \"encoding\": enums.RecognitionConfig.AudioEncoding.LINEAR16,\n",
    "        \"audio_channel_count\": int(channels),\n",
    "        \"enable_word_time_offsets\": True,\n",
    "        \"enable_automatic_punctuation\":True\n",
    "    }\n",
    "    \n",
    "    with io.open(audio_path, \"rb\") as f:\n",
    "        content = f.read()\n",
    "    audio = {\"content\": content}\n",
    "\n",
    "    operation = client.long_running_recognize(config, audio)\n",
    "    response = operation.result() # Responce from google cloud\n",
    "    return response"
   ]
  },
  {
   "cell_type": "code",
   "execution_count": 6,
   "metadata": {},
   "outputs": [],
   "source": [
    "responce = recognize(path, channels, sample_rate)"
   ]
  },
  {
   "cell_type": "code",
   "execution_count": 15,
   "metadata": {},
   "outputs": [],
   "source": [
    "def generate_vtt(responce):   \n",
    "    vtt = WebVTT() # Subtitle Creation\n",
    "    hypothesis = '' # Text to check word error rate\n",
    "    \n",
    "    for result in responce.results:\n",
    "        words = result.alternatives[0].words\n",
    "        first_word = True # Is this the first word in the sentence.\n",
    "        sentence = ''\n",
    "        for word_info in words:\n",
    "            sentence += word_info.word + ' '\n",
    "            \n",
    "            if first_word:\n",
    "                start_time = datetime.timedelta(seconds=word_info.start_time.seconds)\n",
    "                microseconds = int(word_info.start_time.nanos/(10**6))  # Nanoseconds to microseconds\n",
    "                start_time = str(start_time) + '.' + str(microseconds).zfill(3)\n",
    "                first_word = False\n",
    "\n",
    "            if word_info.word[-1] == '.': # If this is the last word in the sentence.\n",
    "                end_time = datetime.timedelta(seconds=word_info.end_time.seconds)\n",
    "                microseconds = int(word_info.end_time.nanos/(10**6))\n",
    "                end_time = str(end_time) + '.' + str(microseconds).zfill(3)\n",
    "                \n",
    "                hypothesis += sentence\n",
    "                \n",
    "                caption = Caption(str(start_time), str(end_time), sentence) # Title generation\n",
    "                vtt.captions.append(caption)\n",
    "                \n",
    "                print(f'Added sentence: \\n\"{sentence}\" \\n Start time:{start_time}; end time: {end_time}\\n')\n",
    "                \n",
    "                sentence = ''\n",
    "                first_word = True\n",
    "                \n",
    "    return vtt, hypothesis"
   ]
  },
  {
   "cell_type": "code",
   "execution_count": 16,
   "metadata": {},
   "outputs": [
    {
     "name": "stdout",
     "output_type": "stream",
     "text": [
      "Added sentence: \n",
      "\"Every word and phrase he speaks is true. \" \n",
      " Start time:0:00:00.900; end time: 0:00:04.200\n",
      "\n",
      "Added sentence: \n",
      "\"He put his last cartridge into the gun and fired. \" \n",
      " Start time:0:00:05.200; end time: 0:00:08.900\n",
      "\n",
      "Added sentence: \n",
      "\"They took their kids from the public school. \" \n",
      " Start time:0:00:09.700; end time: 0:00:12.800\n",
      "\n",
      "Added sentence: \n",
      "\"Dr. \" \n",
      " Start time:0:00:13.800; end time: 0:00:14.500\n",
      "\n",
      "Added sentence: \n",
      "\"keep the hatch tight and the watch constant. \" \n",
      " Start time:0:00:17.300; end time: 0:00:20.500\n",
      "\n",
      "Added sentence: \n",
      "\"Sever the twine with a quick tip of the knife. \" \n",
      " Start time:0:00:21.400; end time: 0:00:24.200\n",
      "\n",
      "Added sentence: \n",
      "\"Paper will dry out when went. \" \n",
      " Start time:0:00:25.400; end time: 0:00:27.900\n",
      "\n",
      "Added sentence: \n",
      "\"Slide the cash back and open the desk. \" \n",
      " Start time:0:00:28.800; end time: 0:00:31.900\n",
      "\n",
      "Added sentence: \n",
      "\"Help the week to preserve their strength. \" \n",
      " Start time:0:00:33.000; end time: 0:00:35.800\n",
      "\n",
      "Added sentence: \n",
      "\"Hey Solon, smile gets few friends. \" \n",
      " Start time:0:00:37.000; end time: 0:00:40.300\n",
      "\n"
     ]
    }
   ],
   "source": [
    "vtt, hypothesis = generate_vtt(responce)\n",
    "vtt.save('result.vtt') # Saving subtitles to file"
   ]
  },
  {
   "cell_type": "markdown",
   "metadata": {},
   "source": [
    "# WER"
   ]
  },
  {
   "cell_type": "code",
   "execution_count": 3,
   "metadata": {},
   "outputs": [],
   "source": [
    "from jiwer import wer"
   ]
  },
  {
   "cell_type": "code",
   "execution_count": 10,
   "metadata": {},
   "outputs": [],
   "source": [
    "truth_text = '''Every word and phrase he speaks is true.\n",
    "He put his last cartridge into the gun and fired.\n",
    "They took their kids from the public school.\n",
    "Drive the screw straight into the wood.\n",
    "Keep the hatch tight and the watch constant.\n",
    "Sever the twine with a quick snip of the knife.\n",
    "Paper will dry out when wet.\n",
    "Slide the catch back and open the desk.\n",
    "Help the weak to preserve their strength.\n",
    "A sullen smile gets few friends.'''"
   ]
  },
  {
   "cell_type": "code",
   "execution_count": 11,
   "metadata": {},
   "outputs": [
    {
     "name": "stdout",
     "output_type": "stream",
     "text": [
      "Every word and phrase he speaks is true. He put his last cartridge into the gun and fired. They took their kids from the public school. Dr. keep the hatch tight and the watch constant. Sever the twine with a quick tip of the knife. Paper will dry out when went. Slide the cash back and open the desk. Help the week to preserve their strength. Hey Solon, smile gets few friends. \n"
     ]
    }
   ],
   "source": [
    "print(hypothesis)"
   ]
  },
  {
   "cell_type": "code",
   "execution_count": 12,
   "metadata": {},
   "outputs": [
    {
     "name": "stdout",
     "output_type": "stream",
     "text": [
      "Quality of recognition: 0.6376811594202898\n"
     ]
    }
   ],
   "source": [
    "wer_result = wer(truth_text.replace('\\n',''), hypothesis)\n",
    "print(f'Quality of recognition: {1 - wer_result}')"
   ]
  }
 ],
 "metadata": {
  "kernelspec": {
   "display_name": "Python 3",
   "language": "python",
   "name": "python3"
  },
  "language_info": {
   "codemirror_mode": {
    "name": "ipython",
    "version": 3
   },
   "file_extension": ".py",
   "mimetype": "text/x-python",
   "name": "python",
   "nbconvert_exporter": "python",
   "pygments_lexer": "ipython3",
   "version": "3.6.9"
  }
 },
 "nbformat": 4,
 "nbformat_minor": 4
}
