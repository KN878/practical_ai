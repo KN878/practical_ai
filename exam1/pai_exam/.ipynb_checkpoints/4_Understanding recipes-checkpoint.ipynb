{
 "cells": [
  {
   "cell_type": "code",
   "execution_count": 1,
   "metadata": {
    "colab": {},
    "colab_type": "code",
    "id": "DYOl-CgkHqLK"
   },
   "outputs": [],
   "source": [
    "import nltk\n",
    "import spacy"
   ]
  },
  {
   "cell_type": "markdown",
   "metadata": {
    "colab_type": "text",
    "id": "zA7_5ZgCHqLP"
   },
   "source": [
    "`python3 -m spacy download en_core_web_sm`"
   ]
  },
  {
   "cell_type": "code",
   "execution_count": 2,
   "metadata": {
    "colab": {},
    "colab_type": "code",
    "id": "zZpqffgnHqLQ"
   },
   "outputs": [],
   "source": [
    "nlp = spacy.load('en_core_web_sm')"
   ]
  },
  {
   "cell_type": "code",
   "execution_count": 10,
   "metadata": {
    "colab": {},
    "colab_type": "code",
    "id": "vrrlzeGgHqLU"
   },
   "outputs": [],
   "source": [
    "receipt = [\n",
    "    'Place chicken strips into a large, resealable plastic bag.',\n",
    "    'In a small bowl, mix the egg, buttermilk and garlic powder.',\n",
    "    'Pour mixture into bag with chicken.',\n",
    "    'Seal, and refrigerate 2 to 4 hours.',\n",
    "    'In another large, resealable plastic bag, mix together the flour, bread crumbs, salt and baking powder.',\n",
    "    'Remove chicken from refrigerator, and drain, discarding buttermilk mixture.',\n",
    "    'Place chicken in flour mixture bag.',\n",
    "    'Seal, and shake to coat.',\n",
    "    'Heat oil in a large, heavy skillet to 375 degrees F (190 degrees C).',\n",
    "    'Carefully place coated chicken in hot oil.',\n",
    "    'Fry until golden brown and juices run clear.',\n",
    "    'Drain on paper towels.'\n",
    "]"
   ]
  },
  {
   "cell_type": "code",
   "execution_count": 11,
   "metadata": {
    "colab": {},
    "colab_type": "code",
    "id": "jb8ZFwYcHqLX"
   },
   "outputs": [],
   "source": [
    "def to_nltk_tree(node):\n",
    "    return nltk.Tree(node.orth_, [to_nltk_tree(child) for child in node.children])\n",
    "\n",
    "def no_punct(tokens):\n",
    "    return [token for token in tokens if token.pos_ not in \"PUNCT\"]"
   ]
  },
  {
   "cell_type": "code",
   "execution_count": 14,
   "metadata": {
    "colab": {},
    "colab_type": "code",
    "id": "7lfy73OzHqLb",
    "outputId": "d8f9276e-b1ad-4ee8-8761-5c63c341a7ef"
   },
   "outputs": [
    {
     "name": "stdout",
     "output_type": "stream",
     "text": [
      "                  strips                       \n",
      "    ________________|________________________   \n",
      "   |               into                      | \n",
      "   |                |                        |  \n",
      "chicken            bag                       | \n",
      "   |      __________|__________________      |  \n",
      " Place   a  large   ,    resealable plastic  . \n",
      "   |     |    |     |        |         |     |  \n",
      "  ...   ...  ...   ...      ...       ...   ...\n",
      "\n",
      "[chicken, into]\n"
     ]
    },
    {
     "data": {
      "text/plain": [
       "[(Place, 'compound'),\n",
       " (chicken, 'compound'),\n",
       " (strips, 'ROOT'),\n",
       " (into, 'prep'),\n",
       " (a, 'det'),\n",
       " (large, 'amod'),\n",
       " (resealable, 'amod'),\n",
       " (plastic, 'amod'),\n",
       " (bag, 'pobj')]"
      ]
     },
     "execution_count": 14,
     "metadata": {},
     "output_type": "execute_result"
    }
   ],
   "source": [
    "doc = nlp(receipt[0])\n",
    "root = [token for token in doc if token.dep_ == 'ROOT'][0]\n",
    "to_nltk_tree(root).pretty_print()\n",
    "print(no_punct(list(root.children)))\n",
    "[(token, token.dep_) for token in no_punct(doc)]"
   ]
  },
  {
   "cell_type": "code",
   "execution_count": 6,
   "metadata": {
    "colab": {},
    "colab_type": "code",
    "id": "73jWDxpLHqLg",
    "scrolled": false
   },
   "outputs": [],
   "source": [
    "def make_printable(nodes):\n",
    "    result = []\n",
    "    for node in nodes:\n",
    "        texts = list(map(lambda x: x.text, node))\n",
    "        result.append(' '.join(texts))\n",
    "    return result\n",
    "        \n",
    "def parse_receipt(receipt):\n",
    "    for i, step in enumerate(receipt, start=1):\n",
    "        tokens = nlp('I ' + step.lower())\n",
    "        verbs = [token for token in tokens if token.pos_ == 'VERB']\n",
    "        print(f'#Step {i}.')\n",
    "        for verb in verbs:\n",
    "            subtree = no_punct(list(verb.children))\n",
    "            # extract direct objects from sentence\n",
    "            objects = [no_punct(list(token.subtree)) for token in subtree if token.dep_ == 'dobj']\n",
    "            # extract conditional objects (where, how, etc.)\n",
    "            cond_objects = [no_punct(list(token.subtree)) for token in subtree if token.dep_ == 'prep']\n",
    "            # extract additional cond. objects which can accidentally be merged with added \"I\"\n",
    "            if verb.dep_ == 'ROOT':\n",
    "                subject = [token for token in tokens if token.dep_ == 'nsubj'][0]\n",
    "                accidental_subj_conds = list(no_punct(subject.subtree))[1:]\n",
    "                if len(accidental_subj_conds) > 0:\n",
    "                    cond_objects.append(accidental_subj_conds)\n",
    "\n",
    "            print(f'Action: {verb}, Objects: {make_printable(objects)}, Conditions: {make_printable(cond_objects)}')\n",
    "        print()"
   ]
  },
  {
   "cell_type": "code",
   "execution_count": 7,
   "metadata": {
    "colab": {},
    "colab_type": "code",
    "id": "6EPf3YHTHqLk",
    "outputId": "ee8dc045-8e0d-4ddb-c15b-4730c185943e"
   },
   "outputs": [
    {
     "name": "stdout",
     "output_type": "stream",
     "text": [
      "#Step 1.\n",
      "Action: place, Objects: ['chicken strips'], Conditions: ['into a large resealable plastic bag']\n",
      "Action: strips, Objects: [], Conditions: []\n",
      "\n",
      "#Step 2.\n",
      "Action: mix, Objects: ['the egg buttermilk and garlic powder'], Conditions: ['in a small bowl']\n",
      "\n",
      "#Step 3.\n",
      "Action: pour, Objects: ['mixture'], Conditions: ['into bag with chicken']\n",
      "\n",
      "#Step 4.\n",
      "Action: seal, Objects: [], Conditions: []\n",
      "Action: refrigerate, Objects: ['2 to 4 hours'], Conditions: []\n",
      "\n",
      "#Step 5.\n",
      "Action: mix, Objects: ['the flour'], Conditions: ['in another large resealable plastic bag']\n",
      "\n",
      "#Step 6.\n",
      "Action: remove, Objects: ['chicken from refrigerator'], Conditions: []\n",
      "Action: drain, Objects: [], Conditions: []\n",
      "Action: discarding, Objects: ['buttermilk mixture'], Conditions: []\n",
      "\n",
      "#Step 7.\n",
      "Action: place, Objects: ['chicken in flour mixture bag'], Conditions: []\n",
      "\n",
      "#Step 8.\n",
      "Action: seal, Objects: [], Conditions: []\n",
      "Action: shake, Objects: [], Conditions: ['to coat']\n",
      "\n",
      "#Step 9.\n",
      "Action: heat, Objects: ['oil'], Conditions: ['in a large heavy skillet', 'to 375 degrees f 190 degrees c']\n",
      "\n",
      "#Step 10.\n",
      "Action: place, Objects: ['coated chicken in hot oil'], Conditions: []\n",
      "Action: coated, Objects: [], Conditions: []\n",
      "\n",
      "#Step 11.\n",
      "Action: fry, Objects: [], Conditions: []\n",
      "Action: run, Objects: [], Conditions: []\n",
      "\n",
      "#Step 12.\n",
      "Action: drain, Objects: [], Conditions: ['on paper towels']\n",
      "\n"
     ]
    }
   ],
   "source": [
    "parse_receipt(receipt)"
   ]
  },
  {
   "cell_type": "code",
   "execution_count": null,
   "metadata": {},
   "outputs": [],
   "source": []
  }
 ],
 "metadata": {
  "colab": {
   "name": "4_Understanding recipes.ipynb",
   "provenance": []
  },
  "kernelspec": {
   "display_name": "Python 3",
   "language": "python",
   "name": "python3"
  },
  "language_info": {
   "codemirror_mode": {
    "name": "ipython",
    "version": 3
   },
   "file_extension": ".py",
   "mimetype": "text/x-python",
   "name": "python",
   "nbconvert_exporter": "python",
   "pygments_lexer": "ipython3",
   "version": "3.6.9"
  },
  "varInspector": {
   "cols": {
    "lenName": 16,
    "lenType": 16,
    "lenVar": 40
   },
   "kernels_config": {
    "python": {
     "delete_cmd_postfix": "",
     "delete_cmd_prefix": "del ",
     "library": "var_list.py",
     "varRefreshCmd": "print(var_dic_list())"
    },
    "r": {
     "delete_cmd_postfix": ") ",
     "delete_cmd_prefix": "rm(",
     "library": "var_list.r",
     "varRefreshCmd": "cat(var_dic_list()) "
    }
   },
   "types_to_exclude": [
    "module",
    "function",
    "builtin_function_or_method",
    "instance",
    "_Feature"
   ],
   "window_display": false
  }
 },
 "nbformat": 4,
 "nbformat_minor": 1
}
