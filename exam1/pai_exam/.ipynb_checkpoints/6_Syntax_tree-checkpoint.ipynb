{
 "cells": [
  {
   "cell_type": "code",
   "execution_count": 1,
   "metadata": {
    "colab": {},
    "colab_type": "code",
    "id": "qoSRUetuBpmV"
   },
   "outputs": [],
   "source": [
    "import nltk\n",
    "# Create grammar\n",
    "my_grammar = nltk.CFG.fromstring(\"\"\"\n",
    "    exp -> '(' exp ')' | number | exp op exp\n",
    "    op -> '+' | '-' | '*' | '/'\n",
    "    number -> digits\n",
    "    digits -> digit | digit digits\n",
    "    digit -> '0' | '1' | '2' | '3' |'4' | '5' | '6' | '7' | '8' |'9'\n",
    "\"\"\")"
   ]
  },
  {
   "cell_type": "code",
   "execution_count": 2,
   "metadata": {
    "colab": {},
    "colab_type": "code",
    "id": "Abg7fMTtDI2N"
   },
   "outputs": [],
   "source": [
    "tokens = \"0123+1234\" # some easy example"
   ]
  },
  {
   "cell_type": "code",
   "execution_count": 3,
   "metadata": {
    "colab": {},
    "colab_type": "code",
    "id": "-kL8Mc1MC_cD"
   },
   "outputs": [],
   "source": [
    "\n",
    "parser = nltk.ChartParser(my_grammar)\n",
    "result = list(parser.parse(tokens))"
   ]
  },
  {
   "cell_type": "code",
   "execution_count": 4,
   "metadata": {
    "colab": {
     "base_uri": "https://localhost:8080/",
     "height": 54
    },
    "colab_type": "code",
    "id": "a0Ftge5QEC1d",
    "outputId": "39c98459-8a62-4d3a-d9dc-976c238f9a2b"
   },
   "outputs": [
    {
     "name": "stdout",
     "output_type": "stream",
     "text": [
      "[Tree('exp', [Tree('exp', [Tree('number', [Tree('digits', [Tree('digit', ['0']), Tree('digits', [Tree('digit', ['1']), Tree('digits', [Tree('digit', ['2']), Tree('digits', [Tree('digit', ['3'])])])])])])]), Tree('op', ['+']), Tree('exp', [Tree('number', [Tree('digits', [Tree('digit', ['1']), Tree('digits', [Tree('digit', ['2']), Tree('digits', [Tree('digit', ['3']), Tree('digits', [Tree('digit', ['4'])])])])])])])])]\n"
     ]
    }
   ],
   "source": [
    "print(result)"
   ]
  },
  {
   "cell_type": "code",
   "execution_count": 0,
   "metadata": {
    "colab": {},
    "colab_type": "code",
    "id": "9PcS-3zGDHBg"
   },
   "outputs": [],
   "source": []
  },
  {
   "cell_type": "code",
   "execution_count": 5,
   "metadata": {
    "colab": {
     "base_uri": "https://localhost:8080/",
     "height": 521
    },
    "colab_type": "code",
    "id": "yfYljyh9DvNF",
    "outputId": "f94de592-a7f4-423b-d915-42117cb4c8f5"
   },
   "outputs": [
    {
     "name": "stdout",
     "output_type": "stream",
     "text": [
      " exp\n",
      "\t number\n",
      "\t\t digits\n",
      "\t\t\t digit\n",
      "\t\t\t\t 0\n",
      "\t\t\t digits\n",
      "\t\t\t\t digit\n",
      "\t\t\t\t\t 1\n",
      "\t\t\t\t digits\n",
      "\t\t\t\t\t digit\n",
      "\t\t\t\t\t\t 2\n",
      "\t\t\t\t\t digits\n",
      "\t\t\t\t\t\t digit\n",
      "\t\t\t\t\t\t\t 3\n",
      " op\n",
      "\t +\n",
      " exp\n",
      "\t number\n",
      "\t\t digits\n",
      "\t\t\t digit\n",
      "\t\t\t\t 1\n",
      "\t\t\t digits\n",
      "\t\t\t\t digit\n",
      "\t\t\t\t\t 2\n",
      "\t\t\t\t digits\n",
      "\t\t\t\t\t digit\n",
      "\t\t\t\t\t\t 3\n",
      "\t\t\t\t\t digits\n",
      "\t\t\t\t\t\t digit\n",
      "\t\t\t\t\t\t\t 4\n"
     ]
    }
   ],
   "source": [
    "#for printing tree\n",
    "def traverse(tree, tab):\n",
    "    for subtree in tree:\n",
    "        if type(subtree) != str:\n",
    "            print(tab, subtree.label())\n",
    "            traverse(subtree, \"\\t\" + tab)\n",
    "        else:\n",
    "            print(tab, subtree)\n",
    "\n",
    "traverse(result[0], \"\")"
   ]
  },
  {
   "cell_type": "code",
   "execution_count": 6,
   "metadata": {
    "colab": {},
    "colab_type": "code",
    "id": "trORSbx9EbZ_"
   },
   "outputs": [],
   "source": [
    "tree = result[0] # first possible parse"
   ]
  },
  {
   "cell_type": "code",
   "execution_count": 7,
   "metadata": {
    "colab": {},
    "colab_type": "code",
    "id": "UHxqDIXUD333"
   },
   "outputs": [],
   "source": [
    "def parse_number(tree): # parse number from Grammar, return string\n",
    "   if type(tree) == str:\n",
    "     return tree\n",
    "   result = \"\"\n",
    "   for subtree in tree:\n",
    "     result += parse_number(subtree)\n",
    "   return result\n",
    "\n",
    "\n",
    "def calc(tree): # get value of tree, return float\n",
    "  if len(tree) == 1: \n",
    "    if tree[0].label() == \"number\":\n",
    "      result = float(parse_number(tree[0]))\n",
    "    elif tree[0].label() == 'digits':\n",
    "      result = float(parse_number(tree[0]))\n",
    "    else:\n",
    "      result = calc(tree[0])\n",
    "    return result\n",
    "  vals = []\n",
    "  op = -1\n",
    "  for subtree in tree:\n",
    "    if(type(subtree) == str):\n",
    "      continue\n",
    "    if subtree.label() == \"exp\":\n",
    "      vals.append(calc(subtree))\n",
    "    elif subtree.label() == \"op\":\n",
    "      op = subtree[0]\n",
    "  \n",
    "  # try different operators\n",
    "  if op == '+':\n",
    "    return vals[0] + vals[1]\n",
    "  elif op == '*':\n",
    "    return vals[0] * vals[1]\n",
    "  elif op == '-':\n",
    "    return vals[0] - vals[1]\n",
    "  elif op == '/':\n",
    "    return vals[0] / vals[1] \n",
    "  return vals[0]\n"
   ]
  },
  {
   "cell_type": "code",
   "execution_count": 8,
   "metadata": {
    "colab": {
     "base_uri": "https://localhost:8080/",
     "height": 34
    },
    "colab_type": "code",
    "id": "haUPNaOxEZSM",
    "outputId": "aa4ba7d7-6a97-4ed6-e5da-dc05a45564f1"
   },
   "outputs": [
    {
     "data": {
      "text/plain": [
       "1357.0"
      ]
     },
     "execution_count": 8,
     "metadata": {
      "tags": []
     },
     "output_type": "execute_result"
    }
   ],
   "source": [
    "calc(tree)"
   ]
  },
  {
   "cell_type": "code",
   "execution_count": 0,
   "metadata": {
    "colab": {},
    "colab_type": "code",
    "id": "DLJDpRQJLZJ-"
   },
   "outputs": [],
   "source": [
    "def get_result(text):\n",
    "  tree = list(parser.parse(text))[0]\n",
    "  return calc(tree) \n",
    "  "
   ]
  },
  {
   "cell_type": "code",
   "execution_count": 10,
   "metadata": {
    "colab": {
     "base_uri": "https://localhost:8080/",
     "height": 34
    },
    "colab_type": "code",
    "id": "cIF9G9NtEcqo",
    "outputId": "843da1da-b515-42c8-e544-ef37585993d5"
   },
   "outputs": [
    {
     "data": {
      "text/plain": [
       "1.0"
      ]
     },
     "execution_count": 10,
     "metadata": {
      "tags": []
     },
     "output_type": "execute_result"
    }
   ],
   "source": [
    "ex1 = \"(1)\"\n",
    "get_result(ex1)"
   ]
  },
  {
   "cell_type": "code",
   "execution_count": 11,
   "metadata": {
    "colab": {
     "base_uri": "https://localhost:8080/",
     "height": 34
    },
    "colab_type": "code",
    "id": "jb83tPY9G6fW",
    "outputId": "82d252ab-1bed-4956-fdde-83314d6ba637"
   },
   "outputs": [
    {
     "data": {
      "text/plain": [
       "5.0"
      ]
     },
     "execution_count": 11,
     "metadata": {
      "tags": []
     },
     "output_type": "execute_result"
    }
   ],
   "source": [
    "ex2 = \"(2+3)\"\n",
    "get_result(ex2)"
   ]
  },
  {
   "cell_type": "code",
   "execution_count": 12,
   "metadata": {
    "colab": {
     "base_uri": "https://localhost:8080/",
     "height": 34
    },
    "colab_type": "code",
    "id": "OygsH1xTJixx",
    "outputId": "d6f40d29-25a0-4e28-97ad-c92c889ae821"
   },
   "outputs": [
    {
     "data": {
      "text/plain": [
       "-8.0"
      ]
     },
     "execution_count": 12,
     "metadata": {
      "tags": []
     },
     "output_type": "execute_result"
    }
   ],
   "source": [
    "ex3 = \"((2-4)*(8/2))\"\n",
    "get_result(ex3)"
   ]
  },
  {
   "cell_type": "code",
   "execution_count": 13,
   "metadata": {
    "colab": {
     "base_uri": "https://localhost:8080/",
     "height": 34
    },
    "colab_type": "code",
    "id": "8nOJHY2BJrP5",
    "outputId": "77e485f1-47b5-4a0d-c088-83dc9af1fe78"
   },
   "outputs": [
    {
     "data": {
      "text/plain": [
       "-105.0"
      ]
     },
     "execution_count": 13,
     "metadata": {
      "tags": []
     },
     "output_type": "execute_result"
    }
   ],
   "source": [
    "ex4 = \"(((5-10)*(16/2))+5)*3\"\n",
    "get_result(ex4)"
   ]
  },
  {
   "cell_type": "code",
   "execution_count": 0,
   "metadata": {
    "colab": {},
    "colab_type": "code",
    "id": "b9wWMpLZKMVW"
   },
   "outputs": [],
   "source": []
  },
  {
   "cell_type": "markdown",
   "metadata": {
    "colab_type": "text",
    "id": "8kZP_CTeOyT-"
   },
   "source": [
    "#bonus_part\n"
   ]
  },
  {
   "cell_type": "code",
   "execution_count": 0,
   "metadata": {
    "colab": {},
    "colab_type": "code",
    "id": "YBAm70t1L7BD"
   },
   "outputs": [],
   "source": [
    "my_grammar = nltk.CFG.fromstring(\"\"\"\n",
    "    exp -> '(' exp ')' | number | exp op exp\n",
    "    op -> '+' | '-' | '*' | '/'\n",
    "    number -> digits | digits '.' digits\n",
    "    digits -> digit | digit digits\n",
    "    digit -> '0' | '1' | '2' | '3' |'4' | '5' | '6' | '7' | '8' |'9'\n",
    "\"\"\")"
   ]
  },
  {
   "cell_type": "code",
   "execution_count": 0,
   "metadata": {
    "colab": {},
    "colab_type": "code",
    "id": "1OHgZm8oMHox"
   },
   "outputs": [],
   "source": [
    "parser = nltk.ChartParser(my_grammar)"
   ]
  },
  {
   "cell_type": "code",
   "execution_count": 16,
   "metadata": {
    "colab": {
     "base_uri": "https://localhost:8080/",
     "height": 34
    },
    "colab_type": "code",
    "id": "6ctFRwS1MKo2",
    "outputId": "932f2087-0482-447c-9abf-d132a2c09444"
   },
   "outputs": [
    {
     "data": {
      "text/plain": [
       "123.5"
      ]
     },
     "execution_count": 16,
     "metadata": {
      "tags": []
     },
     "output_type": "execute_result"
    }
   ],
   "source": [
    "ex1 = \"(123.5)\"\n",
    "get_result(ex1)"
   ]
  },
  {
   "cell_type": "code",
   "execution_count": 0,
   "metadata": {
    "colab": {},
    "colab_type": "code",
    "id": "SkARbf-zMPwG"
   },
   "outputs": [],
   "source": [
    "ex2 = \"((123.5)+(23.6))*2\""
   ]
  },
  {
   "cell_type": "code",
   "execution_count": 18,
   "metadata": {
    "colab": {
     "base_uri": "https://localhost:8080/",
     "height": 34
    },
    "colab_type": "code",
    "id": "WA_9bSlXMs4z",
    "outputId": "259f45ed-8256-41c5-9c65-b7f3d1bf7d37"
   },
   "outputs": [
    {
     "data": {
      "text/plain": [
       "294.2"
      ]
     },
     "execution_count": 18,
     "metadata": {
      "tags": []
     },
     "output_type": "execute_result"
    }
   ],
   "source": [
    "get_result(ex2)"
   ]
  },
  {
   "cell_type": "code",
   "execution_count": 0,
   "metadata": {
    "colab": {},
    "colab_type": "code",
    "id": "yR3rVMh-Muzl"
   },
   "outputs": [],
   "source": [
    "ex3 = \"(12+(36*0.5))/0.1\""
   ]
  },
  {
   "cell_type": "code",
   "execution_count": 20,
   "metadata": {
    "colab": {
     "base_uri": "https://localhost:8080/",
     "height": 34
    },
    "colab_type": "code",
    "id": "lSghUPFMMxYo",
    "outputId": "62568f4f-98b4-4064-e8e9-7be07e519055"
   },
   "outputs": [
    {
     "data": {
      "text/plain": [
       "300.0"
      ]
     },
     "execution_count": 20,
     "metadata": {
      "tags": []
     },
     "output_type": "execute_result"
    }
   ],
   "source": [
    "get_result(ex3)"
   ]
  },
  {
   "cell_type": "code",
   "execution_count": 0,
   "metadata": {
    "colab": {},
    "colab_type": "code",
    "id": "S5yoot0wNSxH"
   },
   "outputs": [],
   "source": []
  }
 ],
 "metadata": {
  "colab": {
   "collapsed_sections": [],
   "name": "PAI 6.ipynb",
   "provenance": []
  },
  "kernelspec": {
   "display_name": "Python 3",
   "language": "python",
   "name": "python3"
  },
  "language_info": {
   "codemirror_mode": {
    "name": "ipython",
    "version": 3
   },
   "file_extension": ".py",
   "mimetype": "text/x-python",
   "name": "python",
   "nbconvert_exporter": "python",
   "pygments_lexer": "ipython3",
   "version": "3.6.9"
  }
 },
 "nbformat": 4,
 "nbformat_minor": 1
}
