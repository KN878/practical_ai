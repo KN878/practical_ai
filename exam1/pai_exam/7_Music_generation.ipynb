{
 "cells": [
  {
   "cell_type": "code",
   "execution_count": 1,
   "metadata": {},
   "outputs": [],
   "source": [
    "import pyaudio\n",
    "import numpy as np"
   ]
  },
  {
   "cell_type": "code",
   "execution_count": 2,
   "metadata": {},
   "outputs": [],
   "source": [
    "C0_freq = 16.35 # frequency of note C in octave 0\n",
    "SEMITONE_STEP = 2 ** (1 / 12)\n",
    "OCTAVES_COUNT = 9\n",
    "FS = 16000  # samples per second\n",
    "SECONDS = 1  # duration in seconds"
   ]
  },
  {
   "cell_type": "code",
   "execution_count": 3,
   "metadata": {},
   "outputs": [],
   "source": [
    "note_names = ['C', 'C#' ,'D', 'D#', 'E', 'F', 'F#', 'G', 'G#', 'A', 'A#', 'B']\n",
    "note2id = {name:i for i, name in enumerate(note_names)}"
   ]
  },
  {
   "cell_type": "code",
   "execution_count": 4,
   "metadata": {},
   "outputs": [],
   "source": [
    "note_frequencies = [C0_freq]\n",
    "for i in range(1, len(note_names) * OCTAVES_COUNT):\n",
    "    note_frequencies.append(note_frequencies[-1] * SEMITONE_STEP)"
   ]
  },
  {
   "cell_type": "code",
   "execution_count": null,
   "metadata": {},
   "outputs": [],
   "source": []
  },
  {
   "cell_type": "code",
   "execution_count": 5,
   "metadata": {},
   "outputs": [],
   "source": [
    "def get_major_chord(note, octave = 4):\n",
    "    id = len(note_names) * octave + note2id[note]\n",
    "    return note_frequencies[id], note_frequencies[id + 4], note_frequencies[id + 7]"
   ]
  },
  {
   "cell_type": "code",
   "execution_count": 6,
   "metadata": {},
   "outputs": [],
   "source": [
    "def get_minor_chord(note, octave = 4):\n",
    "    id = len(note_names) * octave + note2id[note]\n",
    "    return note_frequencies[id], note_frequencies[id + 3], note_frequencies[id + 7]"
   ]
  },
  {
   "cell_type": "code",
   "execution_count": 7,
   "metadata": {},
   "outputs": [],
   "source": [
    "def get_chord(name, octave = 4):\n",
    "    if len(name) == 2 and name[1] == 'm':\n",
    "        return get_minor_chord(name[0], octave)\n",
    "    return get_major_chord(name[0], octave)"
   ]
  },
  {
   "cell_type": "code",
   "execution_count": null,
   "metadata": {},
   "outputs": [],
   "source": []
  },
  {
   "cell_type": "code",
   "execution_count": 8,
   "metadata": {},
   "outputs": [],
   "source": [
    "t = np.linspace(0, SECONDS, SECONDS * FS, False)"
   ]
  },
  {
   "cell_type": "code",
   "execution_count": 9,
   "metadata": {},
   "outputs": [],
   "source": [
    "def generate_wave(chord):\n",
    "    wave = np.zeros(int(SECONDS * FS))\n",
    "    for frequency in chord:\n",
    "        wave += np.sin(frequency * t * 2 * np.pi)\n",
    "    wave = wave * (2**15 - 1) / np.max(np.abs(wave)) # normalize to 16bit range\n",
    "    return wave.astype(np.int16)"
   ]
  },
  {
   "cell_type": "code",
   "execution_count": 10,
   "metadata": {},
   "outputs": [],
   "source": [
    "def play_melody(melody, octave = 4):\n",
    "    p = pyaudio.PyAudio()\n",
    "    stream = p.open(format = p.get_format_from_width(2, unsigned=False), \n",
    "                    channels = 1, \n",
    "                    rate = FS, \n",
    "                    output = True)\n",
    "    \n",
    "    for chord in melody:\n",
    "        wave = generate_wave(get_chord(chord, octave))\n",
    "        stream.write(wave)\n",
    "        \n",
    "    stream.stop_stream()\n",
    "    stream.close()\n",
    "    p.terminate()"
   ]
  },
  {
   "cell_type": "code",
   "execution_count": 11,
   "metadata": {},
   "outputs": [],
   "source": [
    "melody = 'C G Am F G C'.split()"
   ]
  },
  {
   "cell_type": "code",
   "execution_count": 12,
   "metadata": {},
   "outputs": [],
   "source": [
    "play_melody(melody)"
   ]
  },
  {
   "cell_type": "code",
   "execution_count": null,
   "metadata": {},
   "outputs": [],
   "source": []
  }
 ],
 "metadata": {
  "kernelspec": {
   "display_name": "Python 3",
   "language": "python",
   "name": "python3"
  },
  "language_info": {
   "codemirror_mode": {
    "name": "ipython",
    "version": 3
   },
   "file_extension": ".py",
   "mimetype": "text/x-python",
   "name": "python",
   "nbconvert_exporter": "python",
   "pygments_lexer": "ipython3",
   "version": "3.6.9"
  }
 },
 "nbformat": 4,
 "nbformat_minor": 2
}
