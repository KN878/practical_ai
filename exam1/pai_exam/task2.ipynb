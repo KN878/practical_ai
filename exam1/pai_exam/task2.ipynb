{
 "cells": [
  {
   "cell_type": "code",
   "execution_count": 1,
   "metadata": {},
   "outputs": [],
   "source": [
    "import torch\n",
    "from torch.optim import Adam\n",
    "from torch.utils.data import TensorDataset, DataLoader\n",
    "from torch import nn\n",
    "\n",
    "import numpy as np\n",
    "from sklearn.metrics import accuracy_score"
   ]
  },
  {
   "cell_type": "code",
   "execution_count": 2,
   "metadata": {},
   "outputs": [],
   "source": [
    "np.random.seed(42)\n",
    "torch.manual_seed(42)\n",
    "\n",
    "MIN_INCOME = 15000\n",
    "MAX_INCOME = 70000\n",
    "MAX_AGE = 50\n",
    "MIN_AGE = 19"
   ]
  },
  {
   "cell_type": "code",
   "execution_count": 3,
   "metadata": {},
   "outputs": [],
   "source": [
    "def generate_dataset():\n",
    "    clients = []\n",
    "    labels = []\n",
    "    # тут можно обойтись без циклов, просто рандомя вектора размеров 879, 180 и т.д.\n",
    "    for _ in range(879):\n",
    "        # можете поиграться с верхними границами/распределениями\n",
    "        income = np.random.uniform(44861.79, MAX_INCOME)\n",
    "        # скорее всего, у человека с деньгами есть высшее образование :)\n",
    "        education = int(np.random.rand() < 0.9)\n",
    "        age = np.random.uniform(MIN_AGE, MAX_AGE)\n",
    "        clients.append([income, education, age])\n",
    "        # 0 как на картинке из задания\n",
    "        labels.append(0)\n",
    "    for i in range(180):\n",
    "        income = np.random.uniform(33270.53, 44861.79)\n",
    "        education = 1\n",
    "        age = np.random.uniform(MIN_AGE, MAX_AGE)\n",
    "        clients.append([income, education, age])\n",
    "        # можете этот np.round посчитать ручками\n",
    "        if i < np.round(180 * 0.961):\n",
    "            labels.append(0)\n",
    "        else:\n",
    "            labels.append(1)\n",
    "    for i in range(15):\n",
    "        income = np.random.uniform(33270.53, 44861.79)\n",
    "        education = 0\n",
    "        age = np.random.uniform(MIN_AGE, MAX_AGE)\n",
    "        clients.append([income, education, age])\n",
    "        labels.append(1)\n",
    "    for i in range(71):\n",
    "        income = np.random.uniform(28790.85, 33270.53)\n",
    "        education = int(np.random.uniform() < 0.5)\n",
    "        age = np.random.uniform(28.5, MAX_AGE)\n",
    "        clients.append([income, education, age])\n",
    "        if i < np.round(71 * 0.592):\n",
    "            labels.append(0)\n",
    "        else:\n",
    "            labels.append(1)\n",
    "    for i in range(114):\n",
    "        income = np.random.uniform(MIN_INCOME, 28790.85)\n",
    "        education = int(np.random.uniform() < 0.5)\n",
    "        age = np.random.uniform(MIN_AGE, MAX_AGE)\n",
    "        clients.append([income, education, age])\n",
    "        if i < np.round(114 * 0.614):\n",
    "            labels.append(1)\n",
    "        else:\n",
    "            labels.append(0)\n",
    "    for i in range(89):\n",
    "        income = np.random.uniform(MIN_INCOME, 33270.53)\n",
    "        education = int(np.random.uniform() < 0.5)\n",
    "        age = np.random.uniform(MIN_AGE, 28.5)\n",
    "        clients.append([income, education, age])\n",
    "        if i < np.round(89 * 0.933):\n",
    "            labels.append(1)\n",
    "        else:\n",
    "            labels.append(0)\n",
    "    \n",
    "    return np.array(clients), np.array(labels)"
   ]
  },
  {
   "cell_type": "code",
   "execution_count": 4,
   "metadata": {},
   "outputs": [],
   "source": [
    "train, test = generate_dataset(), generate_dataset()"
   ]
  },
  {
   "cell_type": "code",
   "execution_count": 5,
   "metadata": {},
   "outputs": [],
   "source": [
    "X_train, y_train = train\n",
    "X_test, y_test = test"
   ]
  },
  {
   "cell_type": "code",
   "execution_count": 6,
   "metadata": {},
   "outputs": [],
   "source": [
    "from sklearn.preprocessing import MinMaxScaler, OneHotEncoder"
   ]
  },
  {
   "cell_type": "code",
   "execution_count": 7,
   "metadata": {},
   "outputs": [],
   "source": [
    "train_incomes, train_educations, train_ages = X_train[:, 0], X_train[:, 1], X_train[:, 2]\n",
    "test_incomes, test_educations, test_ages = X_test[:, 0], X_test[:, 1], X_test[:, 2]"
   ]
  },
  {
   "cell_type": "code",
   "execution_count": 8,
   "metadata": {},
   "outputs": [],
   "source": [
    "income_scaler = MinMaxScaler()\n",
    "train_incomes = income_scaler.fit_transform(train_incomes.reshape(-1, 1))\n",
    "test_incomes = income_scaler.transform(test_incomes.reshape(-1, 1))\n",
    "\n",
    "# one-hot encoding\n",
    "education_encoder = OneHotEncoder()\n",
    "train_educations = education_encoder.fit_transform(train_educations.reshape(-1, 1))\n",
    "test_educations = education_encoder.transform(test_educations.reshape(-1, 1))\n",
    "\n",
    "age_scaler = MinMaxScaler()\n",
    "train_ages = age_scaler.fit_transform(train_ages.reshape(-1, 1))\n",
    "test_ages = age_scaler.transform(test_ages.reshape(-1, 1))"
   ]
  },
  {
   "cell_type": "code",
   "execution_count": 9,
   "metadata": {},
   "outputs": [],
   "source": [
    "X_train = np.concatenate([train_incomes, train_educations.toarray(), train_ages], axis=1)\n",
    "X_test = np.concatenate([test_incomes, test_educations.toarray(), test_ages], axis=1)"
   ]
  },
  {
   "cell_type": "code",
   "execution_count": 10,
   "metadata": {},
   "outputs": [],
   "source": [
    "X_train, y_train = torch.Tensor(X_train), torch.from_numpy(y_train)\n",
    "train_ds = TensorDataset(X_train, y_train)\n",
    "\n",
    "X_test, y_test = torch.Tensor(X_test), torch.from_numpy(y_test)\n",
    "test_ds = TensorDataset(X_test, y_test)"
   ]
  },
  {
   "cell_type": "code",
   "execution_count": 11,
   "metadata": {},
   "outputs": [],
   "source": [
    "train_dl = DataLoader(train_ds, batch_size=100, shuffle=True)\n",
    "test_dl = DataLoader(test_ds, batch_size=100)"
   ]
  },
  {
   "cell_type": "code",
   "execution_count": 12,
   "metadata": {},
   "outputs": [],
   "source": [
    "class ANN(nn.Module):\n",
    "    def __init__(self):\n",
    "        super(ANN, self).__init__()\n",
    "        self.linear1 = nn.Linear(4, 6)\n",
    "        self.linear2 = nn.Linear(6, 2)\n",
    "    \n",
    "    def forward(self, x):\n",
    "        x = torch.tanh(self.linear1(x))\n",
    "        return self.linear2(x)"
   ]
  },
  {
   "cell_type": "code",
   "execution_count": 13,
   "metadata": {},
   "outputs": [],
   "source": [
    "ann = ANN()\n",
    "criterion = nn.CrossEntropyLoss()\n",
    "optimizer = Adam(ann.parameters())"
   ]
  },
  {
   "cell_type": "code",
   "execution_count": 14,
   "metadata": {},
   "outputs": [
    {
     "name": "stdout",
     "output_type": "stream",
     "text": [
      "Accuracy for epoch 1 is 0.8538575667655787\n",
      "Accuracy for epoch 2 is 0.8612759643916914\n",
      "Accuracy for epoch 3 is 0.905786350148368\n"
     ]
    }
   ],
   "source": [
    "for epoch in range(3):\n",
    "    ann.train()\n",
    "    for x, y in train_dl:\n",
    "        logits = ann(x)\n",
    "        loss = criterion(logits, y)\n",
    "        \n",
    "        optimizer.zero_grad()\n",
    "        loss.backward()\n",
    "        optimizer.step()\n",
    "    \n",
    "    ann.eval()\n",
    "    with torch.no_grad():\n",
    "        preds = []\n",
    "        ys = []\n",
    "        \n",
    "        for x, y in test_dl:\n",
    "            preds += torch.argmax(ann(x), axis=1).numpy().tolist()\n",
    "            ys += y.numpy().tolist()\n",
    "        \n",
    "        acc = accuracy_score(preds, ys)\n",
    "        print(f'Accuracy for epoch {epoch + 1} is {acc}')\n",
    "            "
   ]
  },
  {
   "cell_type": "code",
   "execution_count": null,
   "metadata": {},
   "outputs": [],
   "source": []
  }
 ],
 "metadata": {
  "kernelspec": {
   "display_name": "Python 3",
   "language": "python",
   "name": "python3"
  },
  "language_info": {
   "codemirror_mode": {
    "name": "ipython",
    "version": 3
   },
   "file_extension": ".py",
   "mimetype": "text/x-python",
   "name": "python",
   "nbconvert_exporter": "python",
   "pygments_lexer": "ipython3",
   "version": "3.6.9"
  }
 },
 "nbformat": 4,
 "nbformat_minor": 2
}
