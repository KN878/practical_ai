{
 "cells": [
  {
   "cell_type": "code",
   "execution_count": 22,
   "metadata": {},
   "outputs": [],
   "source": [
    "import nltk\n",
    "from collections import defaultdict\n",
    "from nltk import tokenize\n",
    "from nltk.stem.snowball import SnowballStemmer\n",
    "import numpy as np\n",
    "import copy\n",
    "\n",
    "from sklearn.decomposition import PCA\n",
    "from sklearn.metrics.pairwise import cosine_similarity\n",
    "from numpy.linalg import svd\n",
    "from sklearn.feature_extraction.text import TfidfVectorizer"
   ]
  },
  {
   "cell_type": "code",
   "execution_count": 29,
   "metadata": {},
   "outputs": [
    {
     "name": "stdout",
     "output_type": "stream",
     "text": [
      "['\\ufeff1.', 'if you somehow found a way to extract all of the gold from the bubbl core of our love littl planet, you would be abl to cover all of the land in a layer of gold up to your knee.', '2. mcdonald call frequent buyer of their food “heavi users.”\\n3. the averag person spend 6 month of their lifetim wait on a red light to turn green.', '4. the largest record snowflak was in keogh, mt dure year 1887, and was 15 inch wide.', '5. you burn more calori sleep than you do watch televis.', '6. there are more lifeform live on your skin than there are peopl on the planet.', '7. southern sea otter have flap of skin under their foreleg that act as pocket.', 'when dive, they use these pouch to store rock and food.', '8. in 1386 a pig in franc was execut by public hang for the murder of a child.', '9. one in everi five adult believ that alien are hide in our planet disguis as human.', '10. if you believ that you’re truli one in a million, there are still approxim 7,184 more peopl out there just like you.', '11. a singl cloud can weight more than 1 million pound.', '12. a human will eat on averag 70 assort insect and 10 spider while sleep.', '13. jame buchanan, the 15th u.s. presid continu bought slave with his own money in order to free them.', '14. there are more possibl iter of a game of chess than there are atom in the known univers.', '15. the averag person walk the equival of three time around the world in a lifetim.', '16. men are 6 time more like to be struck by lightn than women.', '17. coca-cola would be green if color wasn’t ad to it.', '18. you cannot snore and dream at the same time.', '19. the world’s oldest piec of chew gum is over 9,000 year old!', '20. a coyot can hear a mous move underneath a foot of snow.', '21. bolt of lightn can shoot out of an erupt volcano.', '22. new york drift about one inch farther away from london each year.', '23. a u.s. dollar bill can be fold approxim 4,000 time in the same place befor it will tear.', '24. a sneez travel about 100 mile per hour.', '21. earth has travel more than 5,000 mile in the past 5 minut.', '22. it would take a sloth one month to travel one mile.', '23.', '10% of the world’s popul is left hand.', '24. a broken clock is right two time everi day.', '25. accord to amazon, the most highlight book on kindl are the bibl, the steve job biographi, and the hunger game.', '26. bob marley’s last word to his son befor he die were “money can’t buy life.”\\n27. a mole can dig a tunnel that is 300 feet long in onli one night.', '28. a hippo’s wide open mouth is big enough to fit a 4-foot-tal child in.', '29. chew gum while you cut an onion will help keep you from cri.', '30. if you were to stretch a slinki out until it’s flat, it would measur 87 feet long.', '31. al capon’s busi card said he was a use furnitur dealer\\n32. there are more collect call on father’s day than on ani other day of the year.', '33. bang your head against a wall burn 150 calori an hour.', '34.', '95% of peopl text thing they could never say in person.', '35. a crocodil can’t poke it tongu out.', '36. it is physic imposs for pig to look up into the sky.', '37. guin book of record hold the record for be the book most often stolen from public librari.', '38. dri fruit deplet it of 30-80% of it vitamin and antioxid content\\n39. a 2010 studi found that 48% of soda fountain contain fecal bacteria, and 11% contain e. coli.', '40.', '9 out of 10 american are defici in potassium.', '41. blueberri will not ripen until they are pick.', '42. about 150 peopl per year are kill by coconut.', '43. ketchup was use as a medicin back in the 1930’s.', '44. honey never spoil.', '45. about half of all american are on a diet on ani given day.', '46. a hardboil egg will spin, but a soft-boil egg will not.', '47. avocado are poison to bird.', '48. chew gum burn about 11 calori per hour.', '49. the number of anim kill for meat everi hour in the u.s. is 500,000.', '50. if you tri to suppress a sneez, you can ruptur a blood vessel in your head or neck and die.', '51. celeri has negat calori!', 'it take more calori to eat a piec of celeri than the celeri has in it to begin with.', 'it’s the same with appl!', '52. more peopl are allerg to cow’s milk than ani other food.', '53. onli 8% of dieter will follow a restrict weight loss plan (such as hcg drop diet, garcinia cambogia diet, etc.)', '54. coconut water can be use as blood plasma.', '55. the word “gorilla” is deriv from a greek word mean, “a tribe of hairi women.”\\n56. prison in canadian war camp dure wwii were treat so well, that a lot of them didn’t’ want to leav when the war was over.', '57. gorilla burp when they are happi\\n58. in new york, it is illeg to sell a haunt hous without tell the buyer.', '59. in 2006 someon tri to sell new zealand on ebay.', 'the price got up to $3,000 befor ebay shut it down.', '60. it is consid good luck in japan when a sumo wrestler make your babi cri.', '61. a man from britain chang his name to tim pppppppppprice to make it harder for telemarket to pronounc.', '62. a woman from california onc tri to sue the maker of cap’n crunch, becaus the crunch berri contain “no berri of ani kind.”\\n63. appl launch a cloth line in 1986. it was describ as a “train wreck” by other.', '64. in japan, crook teeth are consid cute and attract.', '65. a swedish woman lost her wed ring, and found it 16 year later- grow on a carrot in her garden.', '66. donald duck comic were ban from finland becaus he doesn’t wear pant.', '67. the chanc of you die on the way to get lotteri ticket is actual greater than your chanc of win.', '68. cherophobia is the fear of fun.', '69. the toothpast “colgat” in spanish translat to “go hang yourself”\\n70. pirat wore earring becaus they believ it improv their eyesight.', '71. human thigh bone are stronger than concret.', '72. cockroach can live for sever week with their head cut off, becaus their brain are locat insid their bodi.', 'they would eventu die from be unabl to eat.', '73. scientist have track butterfli that travel over 3,000 mile.', '74. to produc a singl pound of honey, a singl bee would have to visit 2 million flower.', '75. the popul is expect to rise to 10.8 billion by the year 2080.', '76. you breath on averag about 8,409,600 time a year\\n77. more than 60,000 peopl are fli over the unit state in an airplan right now.', '78. hamster run up to 8 mile at night on a wheel.', '79. a waterfal in hawaii goe up sometim instead of down.', '80. a church in the czech republ has a chandeli made entir of human bone.', '81. under the code of hammurabi, bartend who water down beer were punish by execut.', '82. our eye are alway the same size from birth, but our nose and ear never stop grow.', '83. dure your lifetim, you will produc enough saliva to fill two swim pool.', '84. you are 1% shorter in the even than in the morn\\n85. the eleph is the onli mammal that can’t jump!', '86. most dust particl in your hous are made from dead skin!', '87. if 33 million peopl held hand, they could make it all the way around the equat.', '88. earth is the onli planet that is not name after a god.', '89. the bloodhound is the onli anim whose evid is admiss in court.', '90. you are born with 300 bone, but by the time you are an adult you onli have 206.', '91. a ten-gallon hat will onli hold ¾ of a gallon.', '92. just like fingerprint, everyon has differ tongu print.', '93. atm’s were origin thought to be failur, becaus the onli user were prostitut and gambler who didn’t want to deal with teller face to face.', '94. of all the word in the english languag, the word “set” has the most definit.', 'the word “run” come in close second.', '95. a “jiffi” is the scientif name for 1/100th of a second.', '96. one fourth of the bone in your bodi are locat in your feet\\n97.', '111,111,111 x 111,111,111 = 12,345,678,987,654,321\\n98. blue-ey peopl tend to have the highest toler of alcohol.', '99. a traffic jam last for more than 10 day, with car onli move 0.6 mile a day.', '100. the tongu is the strongest muscl in the bodi.', '101. everi year more than 2500 left-hand peopl are kill from use right-hand product.', '102. more than 50% of the peopl in the world have never made or receiv a telephon call.', '103. the cigarett lighter was invent befor the match.', '104. sea otter hold hand when they sleep so that they do not drift apart.', '105. the golden poison dart frog’s skin has enough toxin to kill 100 peopl.', '106. the male ostrich can roar just like a lion.', '107. mountain lion can whistl.', '108. the giraff’s tongu is so long that they can lick the insid of their own ear.', '109. cow kill more peopl than shark do.', '110. cat have 32 muscl in each of their ear.', '111. butterfli tast their food with their feet.', '112. a tarantula can live without food for more than two year.', '113. the tongu of a blue whale weigh more than most eleph!', '114. ever wonder where the phrase “it’s rain cat and dog” come from?', 'in the 17th centuri mani homeless cat and dog would drown and float down the street of england, make it look like it liter rain cat and dog.', '115. it take about 3,000 cow to suppli enough leather for the nfl for onli one year.', '116. male dog lift their leg when they are urin for a reason.', 'they are tri to leav their mark higher so that it give off the messag that they are tall and intimid.', '117. a hummingbird weigh less than a penni.', '118. an ostrich’s eye is bigger than it brain\\n119. dog are capabl of understand up to 250 word and gestur and have demonstr the abil to do simpl mathemat calcul.', '120. a sheep, a duck and a rooster were the first passeng in a hot air balloon.', '121. bird don’t urin.', '122. a flea can jump up to 200 time it own height.', 'that is the equival of a human jump the empir state build.', '123. there are 5 templ in kyoto, japan that have blood stain ceil.', 'the ceil are made from the floorboard of a castl where warrior kill themselv after a long hold-off against an armi.', 'to this day, you can still see the outlin and footprint.', '124. there is a snake, call the boomslang, whose venom caus you to bleed out from everi orific on your bodi.', 'you may even turn blue from intern bleed, and it can take up to 5 day to die from the bleed.', '125. a ball of glass will bounc higher than a ball of rubber.', '126. saturn’s densiti is low enough that the planet would float in water.', '127.', '68% of the univers is dark energi, and 27% is dark matter; both are invis, even with our power telescop.', 'this mean we have onli seen 5% of the univers from earth.', '128. the founder of googl were will to sell googl for $1 million to excit in 1999, but excit turn them down.', 'googl is now worth $527 billion.', '129. in the past 20 year, scientist have found over 1,000 planet outsid of our solar system.', '130. there are 60,000 mile of blood vessel in the human bodi.', '131. if a pregnant woman has organ damag, the babi in her womb send stem cell to help repair the organ.', '132. if you start with $0.01 and doubl your money everi day, it would take 27 day to becom a millionair.', '133. onli one person in two billion will live to be 116 or older.', '134. a person can live without food for about a month, but onli about a week without water.', 'if the amount of water in your bodi is reduc by just 1%, you’ll feel thirsti.', 'if it’s reduc by 10%, you’ll die.', '135. on averag, 12 newborn will be given to the wrong parent daili.', '136. you can’t kill yourself by hold your breath.', '137. human birth control pill work on gorilla.', '138. there are no clock in las vega gambl casino.', '139. beetl tast like appl, wasp like pine nut, and worm like fri bacon.', '140. what is call a “french kiss” in the english-speak world is known as an “english kiss” in franc.', '141. month that begin on a sunday will alway have a “friday the 13th.”\\n142. the placement of a donkey’s eye in it’ head enabl it to see all four feet at all time!', '143. some worm will eat themselv if they can’t find ani food!', '144. dolphin sleep with one eye open!', '145. it is imposs to sneez with your eye open.', '146. in franc, it is legal to marri a dead person.', '147. russia has a larger surfac area than pluto.', '148. there’s an opera hous on the u.s.–canada border where the stage is in one countri and half the audienc is in anoth.', '149. the harder you concentr on fall asleep, the less like to fall asleep.', '150. you can’t hum while hold your nose close.', '151. women have twice as mani pain receptor on their bodi than men.', 'but a much higher pain toler.', '152. there are more star in space than there are grain of sand on everi beach in the world.', '153. for everi human on earth there are 1.6 million ant.', '154. the total weight of all those ant, howev, is about the same as all the human.', '155. on jupit and saturn it rain diamond.']\n"
     ]
    }
   ],
   "source": [
    "# try simple engish\n",
    "textfile = \"facts.txt\"\n",
    "\n",
    "stemmer = SnowballStemmer(\"english\")\n",
    "\n",
    "sentences = []\n",
    "init_sentences = []\n",
    "words = []\n",
    "lexemes = []\n",
    "with open(textfile, encoding='utf-8', mode='r') as f:\n",
    "    text = f.read().lower()\n",
    "    \n",
    "    # lets split text for sentences first\n",
    "    \n",
    "    # these 2 parts are the same. Either complex one:\n",
    "    tokenizer = nltk.data.load('tokenizers/punkt/english.pickle')\n",
    "    sentences = tokenize.sent_tokenize(text)\n",
    "    init_sentences = copy.deepcopy(sentences)\n",
    "    # let's explode sentences to lexemes\n",
    "    for i, sentence in enumerate(sentences):\n",
    "        if not sentence:\n",
    "            continue\n",
    "        s_words = [word for word\n",
    "                    in tokenize.word_tokenize(sentence)\n",
    "                    if word not in (',', '.', ':', '-', ';', '?', '!', '\"', \"``\", \"`\", \"''\")\n",
    "                ]\n",
    "        s_lexemes = [stemmer.stem(word) for word in s_words]\n",
    "        for j, word in enumerate(s_words):\n",
    "            sentences[i] = sentences[i].replace(word, s_lexemes[j])\n",
    "        words.append(s_words)\n",
    "        lexemes.append(s_lexemes)\n",
    "#flattening lexemes list\n",
    "lexemes = [item for sublist in lexemes for item in sublist]\n",
    "print(sentences)\n",
    "with open(\"sentenced.txt\", encoding='utf-8', mode='w+') as f:\n",
    "    for s in sentences:\n",
    "        f.write(s + '\\n')"
   ]
  },
  {
   "cell_type": "code",
   "execution_count": 3,
   "metadata": {},
   "outputs": [],
   "source": [
    "#tf-idf vectorization\n",
    "vectorizer = TfidfVectorizer()\n",
    "tdm = vectorizer.fit_transform(sentences).toarray()"
   ]
  },
  {
   "cell_type": "code",
   "execution_count": 4,
   "metadata": {},
   "outputs": [],
   "source": [
    "#PCA\n",
    "pca = PCA(n_components = 0.8,  svd_solver=\"full\")\n",
    "tdm_reduced = pca.fit_transform(tdm)"
   ]
  },
  {
   "cell_type": "code",
   "execution_count": 5,
   "metadata": {},
   "outputs": [],
   "source": [
    "def search_query(query, facts_tdm):\n",
    "        query = query.lower()\n",
    "        query_words = [word for word\n",
    "                    in tokenize.word_tokenize(query)\n",
    "                    if word not in (',', '.', ':', '-', ';', '?', '!', '\"', \"``\", \"`\", \"''\")\n",
    "                ]\n",
    "        query_lexemes = [stemmer.stem(word) for word in query_words]\n",
    "        for j, word in enumerate(query_words):\n",
    "            query = query.replace(word, query_lexemes[j])\n",
    "        queries_list = []\n",
    "        queries_list.append(query)\n",
    "        query_tdm = vectorizer.transform(queries_list).toarray()\n",
    "        query_tdm_reduced = pca.transform(query_tdm)\n",
    "        similarity = cosine_similarity(facts_tdm, query_tdm_reduced).reshape(-1)\n",
    "        top_matches_idx = np.argsort(similarity)[::-1][:5]\n",
    "        return [init_sentences[i] for i in top_matches_idx]    "
   ]
  },
  {
   "cell_type": "code",
   "execution_count": 12,
   "metadata": {},
   "outputs": [],
   "source": [
    "def dcg(found_idx, relevant_idx):\n",
    "    def is_relevant(idx):\n",
    "        return int(idx in relevant_idx)\n",
    "    \n",
    "    dcg = 0\n",
    "    for i, idx in enumerate(found_idx, 1):\n",
    "        dcg += is_relevant(idx)/np.log2(i+1)\n",
    "    return dcg"
   ]
  },
  {
   "cell_type": "code",
   "execution_count": 18,
   "metadata": {},
   "outputs": [],
   "source": [
    "def pFound(found_idx, relevant_idx, max_rel, p_break):\n",
    "    def compute_relevance():\n",
    "        rel = []\n",
    "        for idx in found_idx:\n",
    "            rel.append(max_rel if idx in relevant_idx else 0)\n",
    "        return rel\n",
    "    \n",
    "    def pLook(i):\n",
    "        return p_look[i-1]*(1 - p_rel[i-1])*(1 - p_break)\n",
    "    \n",
    "    p_look = [1]\n",
    "    p_rel = compute_relevance()\n",
    "    pFound = 0\n",
    "    \n",
    "    for i, idx in enumerate(found_idx):\n",
    "        if i != 0:\n",
    "            p_look.append(pLook(i))\n",
    "        pFound += p_look[i]*p_rel[i]\n",
    "    return pFound"
   ]
  },
  {
   "cell_type": "code",
   "execution_count": 27,
   "metadata": {},
   "outputs": [
    {
     "name": "stdout",
     "output_type": "stream",
     "text": [
      ">> Enter your query: pig\n",
      "Found:\n",
      "36. it is physically impossible for pigs to look up into the sky.\n",
      "8. in 1386 a pig in france was executed by public hanging for the murder of a child.\n",
      "﻿1.\n",
      "145. it is impossible to sneeze with your eyes open.\n",
      "81. under the code of hammurabi, bartenders who watered down beer were punished by execution.\n",
      ">> Another query(any/n?): average\n",
      ">> Enter your query: average\n",
      "Found:\n",
      "135. on average, 12 newborns will be given to the wrong parents daily.\n",
      "12. a human will eat on average 70 assorted insects and 10 spiders while sleeping.\n",
      "15. the average person walks the equivalent of three times around the world in a lifetime.\n",
      "2. mcdonalds calls frequent buyers of their food “heavy users.”\n",
      "3. the average person spends 6 months of their lifetime waiting on a red light to turn green.\n",
      "76. you breathe on average about 8,409,600 times a year\n",
      "77. more than 60,000 people are flying over the united states in an airplane right now.\n",
      ">> Another query(any/n?): \n",
      ">> Enter your query: mcdonalds\n",
      "Found:\n",
      "2. mcdonalds calls frequent buyers of their food “heavy users.”\n",
      "3. the average person spends 6 months of their lifetime waiting on a red light to turn green.\n",
      "﻿1.\n",
      "111. butterflies taste their food with their feet.\n",
      "17. coca-cola would be green if coloring wasn’t added to it.\n",
      "15. the average person walks the equivalent of three times around the world in a lifetime.\n",
      ">> Another query(any/n?): book\n",
      ">> Enter your query: book\n",
      "Found:\n",
      "37. guinness book of records holds the record for being the book most often stolen from public libraries.\n",
      "25. according to amazon, the most highlighted books on kindle are the bible, the steve jobs biography, and the hunger games.\n",
      "﻿1.\n",
      "4. the largest recorded snowflake was in keogh, mt during year 1887, and was 15 inches wide.\n",
      "54. coconut water can be used as blood plasma.\n",
      ">> Another query(any/n?): \n",
      ">> Enter your query: books\n",
      "Found:\n",
      "37. guinness book of records holds the record for being the book most often stolen from public libraries.\n",
      "25. according to amazon, the most highlighted books on kindle are the bible, the steve jobs biography, and the hunger games.\n",
      "﻿1.\n",
      "4. the largest recorded snowflake was in keogh, mt during year 1887, and was 15 inches wide.\n",
      "54. coconut water can be used as blood plasma.\n",
      ">> Another query(any/n?): earth\n",
      ">> Enter your query: earth\n",
      "Found:\n",
      "this means we have only seen 5% of the universe from earth.\n",
      "88. earth is the only planet that is not named after a god.\n",
      "153. for every human on earth there are 1.6 million ants.\n",
      "21. earth has traveled more than 5,000 miles in the past 5 minutes.\n",
      "﻿1.\n"
     ]
    },
    {
     "ename": "KeyboardInterrupt",
     "evalue": "",
     "output_type": "error",
     "traceback": [
      "\u001b[0;31m---------------------------------------------------------------------------\u001b[0m",
      "\u001b[0;31mKeyboardInterrupt\u001b[0m                         Traceback (most recent call last)",
      "\u001b[0;32m~/.local/lib/python3.6/site-packages/ipykernel/kernelbase.py\u001b[0m in \u001b[0;36m_input_request\u001b[0;34m(self, prompt, ident, parent, password)\u001b[0m\n\u001b[1;32m    883\u001b[0m             \u001b[0;32mtry\u001b[0m\u001b[0;34m:\u001b[0m\u001b[0;34m\u001b[0m\u001b[0;34m\u001b[0m\u001b[0m\n\u001b[0;32m--> 884\u001b[0;31m                 \u001b[0mident\u001b[0m\u001b[0;34m,\u001b[0m \u001b[0mreply\u001b[0m \u001b[0;34m=\u001b[0m \u001b[0mself\u001b[0m\u001b[0;34m.\u001b[0m\u001b[0msession\u001b[0m\u001b[0;34m.\u001b[0m\u001b[0mrecv\u001b[0m\u001b[0;34m(\u001b[0m\u001b[0mself\u001b[0m\u001b[0;34m.\u001b[0m\u001b[0mstdin_socket\u001b[0m\u001b[0;34m,\u001b[0m \u001b[0;36m0\u001b[0m\u001b[0;34m)\u001b[0m\u001b[0;34m\u001b[0m\u001b[0;34m\u001b[0m\u001b[0m\n\u001b[0m\u001b[1;32m    885\u001b[0m             \u001b[0;32mexcept\u001b[0m \u001b[0mException\u001b[0m\u001b[0;34m:\u001b[0m\u001b[0;34m\u001b[0m\u001b[0;34m\u001b[0m\u001b[0m\n",
      "\u001b[0;32m~/.local/lib/python3.6/site-packages/jupyter_client/session.py\u001b[0m in \u001b[0;36mrecv\u001b[0;34m(self, socket, mode, content, copy)\u001b[0m\n\u001b[1;32m    802\u001b[0m         \u001b[0;32mtry\u001b[0m\u001b[0;34m:\u001b[0m\u001b[0;34m\u001b[0m\u001b[0;34m\u001b[0m\u001b[0m\n\u001b[0;32m--> 803\u001b[0;31m             \u001b[0mmsg_list\u001b[0m \u001b[0;34m=\u001b[0m \u001b[0msocket\u001b[0m\u001b[0;34m.\u001b[0m\u001b[0mrecv_multipart\u001b[0m\u001b[0;34m(\u001b[0m\u001b[0mmode\u001b[0m\u001b[0;34m,\u001b[0m \u001b[0mcopy\u001b[0m\u001b[0;34m=\u001b[0m\u001b[0mcopy\u001b[0m\u001b[0;34m)\u001b[0m\u001b[0;34m\u001b[0m\u001b[0;34m\u001b[0m\u001b[0m\n\u001b[0m\u001b[1;32m    804\u001b[0m         \u001b[0;32mexcept\u001b[0m \u001b[0mzmq\u001b[0m\u001b[0;34m.\u001b[0m\u001b[0mZMQError\u001b[0m \u001b[0;32mas\u001b[0m \u001b[0me\u001b[0m\u001b[0;34m:\u001b[0m\u001b[0;34m\u001b[0m\u001b[0;34m\u001b[0m\u001b[0m\n",
      "\u001b[0;32m~/.local/lib/python3.6/site-packages/zmq/sugar/socket.py\u001b[0m in \u001b[0;36mrecv_multipart\u001b[0;34m(self, flags, copy, track)\u001b[0m\n\u001b[1;32m    474\u001b[0m         \"\"\"\n\u001b[0;32m--> 475\u001b[0;31m         \u001b[0mparts\u001b[0m \u001b[0;34m=\u001b[0m \u001b[0;34m[\u001b[0m\u001b[0mself\u001b[0m\u001b[0;34m.\u001b[0m\u001b[0mrecv\u001b[0m\u001b[0;34m(\u001b[0m\u001b[0mflags\u001b[0m\u001b[0;34m,\u001b[0m \u001b[0mcopy\u001b[0m\u001b[0;34m=\u001b[0m\u001b[0mcopy\u001b[0m\u001b[0;34m,\u001b[0m \u001b[0mtrack\u001b[0m\u001b[0;34m=\u001b[0m\u001b[0mtrack\u001b[0m\u001b[0;34m)\u001b[0m\u001b[0;34m]\u001b[0m\u001b[0;34m\u001b[0m\u001b[0;34m\u001b[0m\u001b[0m\n\u001b[0m\u001b[1;32m    476\u001b[0m         \u001b[0;31m# have first part already, only loop while more to receive\u001b[0m\u001b[0;34m\u001b[0m\u001b[0;34m\u001b[0m\u001b[0;34m\u001b[0m\u001b[0m\n",
      "\u001b[0;32mzmq/backend/cython/socket.pyx\u001b[0m in \u001b[0;36mzmq.backend.cython.socket.Socket.recv\u001b[0;34m()\u001b[0m\n",
      "\u001b[0;32mzmq/backend/cython/socket.pyx\u001b[0m in \u001b[0;36mzmq.backend.cython.socket.Socket.recv\u001b[0;34m()\u001b[0m\n",
      "\u001b[0;32mzmq/backend/cython/socket.pyx\u001b[0m in \u001b[0;36mzmq.backend.cython.socket._recv_copy\u001b[0;34m()\u001b[0m\n",
      "\u001b[0;32m~/.local/lib/python3.6/site-packages/zmq/backend/cython/checkrc.pxd\u001b[0m in \u001b[0;36mzmq.backend.cython.checkrc._check_rc\u001b[0;34m()\u001b[0m\n",
      "\u001b[0;31mKeyboardInterrupt\u001b[0m: ",
      "\nDuring handling of the above exception, another exception occurred:\n",
      "\u001b[0;31mKeyboardInterrupt\u001b[0m                         Traceback (most recent call last)",
      "\u001b[0;32m<ipython-input-27-030aa9ba225a>\u001b[0m in \u001b[0;36m<module>\u001b[0;34m\u001b[0m\n\u001b[1;32m      4\u001b[0m     \u001b[0mprint\u001b[0m\u001b[0;34m(\u001b[0m\u001b[0;34m\"Found:\"\u001b[0m\u001b[0;34m)\u001b[0m\u001b[0;34m\u001b[0m\u001b[0;34m\u001b[0m\u001b[0m\n\u001b[1;32m      5\u001b[0m     \u001b[0;34m[\u001b[0m\u001b[0mprint\u001b[0m\u001b[0;34m(\u001b[0m\u001b[0mmatch\u001b[0m\u001b[0;34m)\u001b[0m \u001b[0;32mfor\u001b[0m \u001b[0mmatch\u001b[0m \u001b[0;32min\u001b[0m \u001b[0mmatches\u001b[0m\u001b[0;34m]\u001b[0m\u001b[0;34m\u001b[0m\u001b[0;34m\u001b[0m\u001b[0m\n\u001b[0;32m----> 6\u001b[0;31m     \u001b[0mrepeat\u001b[0m \u001b[0;34m=\u001b[0m \u001b[0minput\u001b[0m\u001b[0;34m(\u001b[0m\u001b[0;34m\">> Another query(any/n?): \"\u001b[0m\u001b[0;34m)\u001b[0m\u001b[0;34m\u001b[0m\u001b[0;34m\u001b[0m\u001b[0m\n\u001b[0m\u001b[1;32m      7\u001b[0m     \u001b[0;32mif\u001b[0m \u001b[0mrepeat\u001b[0m \u001b[0;34m==\u001b[0m \u001b[0;34m'n'\u001b[0m\u001b[0;34m:\u001b[0m\u001b[0;34m\u001b[0m\u001b[0;34m\u001b[0m\u001b[0m\n\u001b[1;32m      8\u001b[0m         \u001b[0;32mbreak\u001b[0m\u001b[0;34m\u001b[0m\u001b[0;34m\u001b[0m\u001b[0m\n",
      "\u001b[0;32m~/.local/lib/python3.6/site-packages/ipykernel/kernelbase.py\u001b[0m in \u001b[0;36mraw_input\u001b[0;34m(self, prompt)\u001b[0m\n\u001b[1;32m    857\u001b[0m             \u001b[0mself\u001b[0m\u001b[0;34m.\u001b[0m\u001b[0m_parent_ident\u001b[0m\u001b[0;34m,\u001b[0m\u001b[0;34m\u001b[0m\u001b[0;34m\u001b[0m\u001b[0m\n\u001b[1;32m    858\u001b[0m             \u001b[0mself\u001b[0m\u001b[0;34m.\u001b[0m\u001b[0m_parent_header\u001b[0m\u001b[0;34m,\u001b[0m\u001b[0;34m\u001b[0m\u001b[0;34m\u001b[0m\u001b[0m\n\u001b[0;32m--> 859\u001b[0;31m             \u001b[0mpassword\u001b[0m\u001b[0;34m=\u001b[0m\u001b[0;32mFalse\u001b[0m\u001b[0;34m,\u001b[0m\u001b[0;34m\u001b[0m\u001b[0;34m\u001b[0m\u001b[0m\n\u001b[0m\u001b[1;32m    860\u001b[0m         )\n\u001b[1;32m    861\u001b[0m \u001b[0;34m\u001b[0m\u001b[0m\n",
      "\u001b[0;32m~/.local/lib/python3.6/site-packages/ipykernel/kernelbase.py\u001b[0m in \u001b[0;36m_input_request\u001b[0;34m(self, prompt, ident, parent, password)\u001b[0m\n\u001b[1;32m    887\u001b[0m             \u001b[0;32mexcept\u001b[0m \u001b[0mKeyboardInterrupt\u001b[0m\u001b[0;34m:\u001b[0m\u001b[0;34m\u001b[0m\u001b[0;34m\u001b[0m\u001b[0m\n\u001b[1;32m    888\u001b[0m                 \u001b[0;31m# re-raise KeyboardInterrupt, to truncate traceback\u001b[0m\u001b[0;34m\u001b[0m\u001b[0;34m\u001b[0m\u001b[0;34m\u001b[0m\u001b[0m\n\u001b[0;32m--> 889\u001b[0;31m                 \u001b[0;32mraise\u001b[0m \u001b[0mKeyboardInterrupt\u001b[0m\u001b[0;34m\u001b[0m\u001b[0;34m\u001b[0m\u001b[0m\n\u001b[0m\u001b[1;32m    890\u001b[0m             \u001b[0;32melse\u001b[0m\u001b[0;34m:\u001b[0m\u001b[0;34m\u001b[0m\u001b[0;34m\u001b[0m\u001b[0m\n\u001b[1;32m    891\u001b[0m                 \u001b[0;32mbreak\u001b[0m\u001b[0;34m\u001b[0m\u001b[0;34m\u001b[0m\u001b[0m\n",
      "\u001b[0;31mKeyboardInterrupt\u001b[0m: "
     ]
    }
   ],
   "source": [
    "while True:\n",
    "    query = input(\">> Enter your query: \")\n",
    "    matches = search_query(query, tdm_reduced)\n",
    "    print(\"Found:\")\n",
    "    [print(match) for match in matches]\n",
    "    repeat = input(\">> Another query(any/n?): \")\n",
    "    if repeat == 'n':\n",
    "        break"
   ]
  },
  {
   "cell_type": "code",
   "execution_count": 13,
   "metadata": {},
   "outputs": [
    {
     "name": "stdout",
     "output_type": "stream",
     "text": [
      "2.6894546246997506\n"
     ]
    }
   ],
   "source": [
    "print(dcg([1,2,3,4,5,6,7,8,9,10], [1,2,5,6,8]))"
   ]
  },
  {
   "cell_type": "code",
   "execution_count": 19,
   "metadata": {},
   "outputs": [
    {
     "name": "stdout",
     "output_type": "stream",
     "text": [
      "0.7341237552565001\n"
     ]
    }
   ],
   "source": [
    "print(pFound([1,2,3,4,5,6,7,8,9,10], [1,2,5,6,8], 0.4, 0.15))"
   ]
  },
  {
   "cell_type": "code",
   "execution_count": 28,
   "metadata": {},
   "outputs": [
    {
     "name": "stdout",
     "output_type": "stream",
     "text": [
      "2. mcdonalds calls frequent buyers of their food “heavy users.”\n",
      "3. the average person spends 6 months of their lifetime waiting on a red light to turn green.\n"
     ]
    }
   ],
   "source": [
    "print(init_sentences[2])"
   ]
  },
  {
   "cell_type": "code",
   "execution_count": 43,
   "metadata": {},
   "outputs": [
    {
     "name": "stdout",
     "output_type": "stream",
     "text": [
      "76. you breathe on average about 8,409,600 times a year\n",
      "77. more than 60,000 people are flying over the united states in an airplane right now.\n"
     ]
    }
   ],
   "source": [
    "print(init_sentences[80])"
   ]
  },
  {
   "cell_type": "code",
   "execution_count": null,
   "metadata": {},
   "outputs": [],
   "source": [
    "with open('queires')"
   ]
  }
 ],
 "metadata": {
  "kernelspec": {
   "display_name": "Python 3",
   "language": "python",
   "name": "python3"
  },
  "language_info": {
   "codemirror_mode": {
    "name": "ipython",
    "version": 3
   },
   "file_extension": ".py",
   "mimetype": "text/x-python",
   "name": "python",
   "nbconvert_exporter": "python",
   "pygments_lexer": "ipython3",
   "version": "3.6.9"
  }
 },
 "nbformat": 4,
 "nbformat_minor": 2
}
