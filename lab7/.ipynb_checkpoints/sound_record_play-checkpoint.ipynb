{
 "cells": [
  {
   "cell_type": "markdown",
   "metadata": {},
   "source": [
    "## Install requirements ## \n",
    "We will need [pyaudio](http://people.csail.mit.edu/hubert/pyaudio/) package. For Windows it requires [VC++14 build tools](https://www.scivision.dev/python-windows-visual-c-14-required/), which can be obtained separately or as a part of other software. Install it before running `pip install pyaudio`. Or even better: unstall prebuilt wheel file [from here](https://www.lfd.uci.edu/~gohlke/pythonlibs/#pyaudio)."
   ]
  },
  {
   "cell_type": "code",
   "execution_count": 1,
   "metadata": {},
   "outputs": [
    {
     "name": "stdout",
     "output_type": "stream",
     "text": [
      "Requirement already satisfied: PyAudio==0.2.11 from https://download.lfd.uci.edu/pythonlibs/s2jqpv5t/PyAudio-0.2.11-cp37-cp37m-win_amd64.whl in c:\\anaconda\\lib\\site-packages (0.2.11)\n"
     ]
    }
   ],
   "source": [
    "# install PyAudio \n",
    "# for details see http://people.csail.mit.edu/hubert/pyaudio/\n",
    "# you will need Microsoft Visual C++ 14.0 build tools\n",
    "# this is the easiest way to obtain - https://www.microsoft.com/en-US/download/details.aspx?id=48145\n",
    "\n",
    "# but also you can alway look for a prebuilt wheel file here:\n",
    "!pip install https://download.lfd.uci.edu/pythonlibs/s2jqpv5t/PyAudio-0.2.11-cp37-cp37m-win_amd64.whl\n",
    "\n",
    "# linux\n",
    "# !sudo apt-get install python-pyaudio python3-pyaudio"
   ]
  },
  {
   "cell_type": "markdown",
   "metadata": {},
   "source": [
    "## Imports and setup ##"
   ]
  },
  {
   "cell_type": "code",
   "execution_count": 1,
   "metadata": {},
   "outputs": [],
   "source": [
    "import pyaudio\n",
    "import wave\n",
    "import sys"
   ]
  },
  {
   "cell_type": "code",
   "execution_count": 2,
   "metadata": {},
   "outputs": [],
   "source": [
    "# default settings for record and playback\n",
    "CHUNK = 1024\n",
    "FORMAT = pyaudio.paInt16\n",
    "CHANNELS = 1\n",
    "RATE = 22050"
   ]
  },
  {
   "cell_type": "code",
   "execution_count": 3,
   "metadata": {},
   "outputs": [],
   "source": [
    "def play_stream(wave_stream, player):\n",
    "    '''Takes a `wave.Wave_read` stream and plays'''\n",
    "    global CHUNK\n",
    "    print(\"Playing...\", end=\"\")\n",
    "    out_stream = player.open(\n",
    "                    output=True,\n",
    "                    format=player.get_format_from_width(wave_stream.getsampwidth()),\n",
    "                    channels=wave_stream.getnchannels(),\n",
    "                    rate=wave_stream.getframerate()\n",
    "    )\n",
    "    data = wave_stream.readframes(CHUNK)\n",
    "    while data:\n",
    "        out_stream.write(data)\n",
    "        data = wave_stream.readframes(CHUNK)\n",
    "    out_stream.stop_stream()\n",
    "    out_stream.close()\n",
    "    print(\"played\")"
   ]
  },
  {
   "cell_type": "code",
   "execution_count": 4,
   "metadata": {},
   "outputs": [],
   "source": [
    "def record_to_file(filename, player, seconds=5):\n",
    "    global FORMAT, CHANNELS, RATE\n",
    "    RECORD_SECONDS = seconds\n",
    "\n",
    "    stream = player.open(\n",
    "                input=True,\n",
    "                format=FORMAT,\n",
    "                channels=CHANNELS,\n",
    "                rate=RATE,\n",
    "                frames_per_buffer=CHUNK)\n",
    "\n",
    "    print(\"Start recording... \", end=\"\")\n",
    "    frames = []\n",
    "    for i in range(0, int(RATE / CHUNK * RECORD_SECONDS)):\n",
    "        data = stream.read(CHUNK)  # or you can here detect average magnitude and stop an silence\n",
    "        frames.append(data)\n",
    "    print(\"recorded\", seconds, \"second(s)\")\n",
    "    stream.stop_stream()\n",
    "    stream.close()\n",
    "\n",
    "    wf = wave.open(filename, 'wb')\n",
    "    wf.setnchannels(CHANNELS)\n",
    "    wf.setsampwidth(player.get_sample_size(FORMAT))\n",
    "    wf.setframerate(RATE)\n",
    "    wf.writeframes(b''.join(frames))\n",
    "    wf.close()"
   ]
  },
  {
   "cell_type": "code",
   "execution_count": 6,
   "metadata": {},
   "outputs": [
    {
     "name": "stdout",
     "output_type": "stream",
     "text": [
      "Recording devices: 15\n",
      "Default recorder: {'index': 14, 'structVersion': 2, 'name': 'default', 'hostApi': 0, 'maxInputChannels': 32, 'maxOutputChannels': 32, 'defaultLowInputLatency': 0.008707482993197279, 'defaultLowOutputLatency': 0.008707482993197279, 'defaultHighInputLatency': 0.034829931972789115, 'defaultHighOutputLatency': 0.034829931972789115, 'defaultSampleRate': 44100.0}\n",
      "<class 'wave.Wave_read'>\n",
      "Playing...played\n",
      "Start recording... recorded 5 second(s)\n",
      "Playing...played\n"
     ]
    }
   ],
   "source": [
    "#sample = \"datasets/sound/peterpiper.wav\"\n",
    "sample = \"peterpiper.wav\"\n",
    "buffer = \"buffer.wav\"\n",
    "player = pyaudio.PyAudio()\n",
    "print(\"Recording devices:\", player.get_device_count())\n",
    "print(\"Default recorder:\", player.get_default_input_device_info())\n",
    "\n",
    "\n",
    "wf = wave.open(sample, 'rb')\n",
    "print(type(wf))\n",
    "play_stream(wf, player)\n",
    "\n",
    "record_to_file(buffer, player)\n",
    "wf = wave.open(buffer, 'rb')\n",
    "play_stream(wf, player)"
   ]
  },
  {
   "cell_type": "code",
   "execution_count": 7,
   "metadata": {},
   "outputs": [],
   "source": [
    "player.terminate()"
   ]
  },
  {
   "cell_type": "code",
   "execution_count": 8,
   "metadata": {},
   "outputs": [
    {
     "name": "stdout",
     "output_type": "stream",
     "text": [
      "Requirement already satisfied: sounddevice in c:\\anaconda3\\lib\\site-packages (0.3.14)\n",
      "Requirement already satisfied: CFFI>=1.0 in c:\\anaconda3\\lib\\site-packages (from sounddevice) (1.10.0)\n",
      "Requirement already satisfied: pycparser in c:\\anaconda3\\lib\\site-packages (from CFFI>=1.0->sounddevice) (2.18)\n"
     ]
    }
   ],
   "source": [
    "# https://realpython.com/playing-and-recording-sound-python/\n",
    "!pip install sounddevice"
   ]
  },
  {
   "cell_type": "code",
   "execution_count": 9,
   "metadata": {},
   "outputs": [],
   "source": [
    "import sounddevice as sd\n",
    "from scipy.io.wavfile import write\n",
    "\n",
    "seconds = 3  # Duration of recording\n",
    "\n",
    "myrecording = sd.rec(int(seconds * RATE), samplerate=RATE, channels=CHANNELS)\n",
    "sd.wait()  # Wait until recording is finished\n",
    "\n",
    "write('output.wav', RATE, myrecording)  # Save as WAV file "
   ]
  }
 ],
 "metadata": {
  "kernelspec": {
   "display_name": "Python 3",
   "language": "python",
   "name": "python3"
  },
  "language_info": {
   "codemirror_mode": {
    "name": "ipython",
    "version": 3
   },
   "file_extension": ".py",
   "mimetype": "text/x-python",
   "name": "python",
   "nbconvert_exporter": "python",
   "pygments_lexer": "ipython3",
   "version": "3.6.9"
  }
 },
 "nbformat": 4,
 "nbformat_minor": 4
}
