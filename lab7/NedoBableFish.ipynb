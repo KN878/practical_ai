{
 "cells": [
  {
   "cell_type": "markdown",
   "metadata": {},
   "source": [
    "### Playsound is required to play synthesized speech"
   ]
  },
  {
   "cell_type": "code",
   "execution_count": 1,
   "metadata": {},
   "outputs": [],
   "source": [
    "from google.cloud import texttospeech\n",
    "from google.cloud import translate as trans\n",
    "from google.cloud import speech\n",
    "from google.cloud.speech import enums\n",
    "from google.cloud.speech import types\n",
    "from google.oauth2 import service_account\n",
    "\n",
    "import pyaudio\n",
    "from playsound import playsound"
   ]
  },
  {
   "cell_type": "code",
   "execution_count": 2,
   "metadata": {},
   "outputs": [],
   "source": [
    "def record_voice(player, seconds=3):\n",
    "    CHUNK = 1024\n",
    "    FORMAT = pyaudio.paInt16\n",
    "    CHANNELS = 1\n",
    "    RATE = 22050\n",
    "    RECORD_SECONDS = seconds\n",
    "\n",
    "    stream = player.open(\n",
    "                input=True,\n",
    "                format=FORMAT,\n",
    "                channels=CHANNELS,\n",
    "                rate=RATE,\n",
    "                frames_per_buffer=CHUNK)\n",
    "\n",
    "    print(\"Start recording... \", end=\"\")\n",
    "    frames = []\n",
    "    for i in range(0, int(RATE / CHUNK * RECORD_SECONDS)):\n",
    "        data = stream.read(CHUNK)  # or you can here detect average magnitude and stop an silence\n",
    "        frames.append(data)\n",
    "    print(\"recorded\", seconds, \"second(s)\")\n",
    "    stream.stop_stream()\n",
    "    stream.close()\n",
    "\n",
    "    return frames"
   ]
  },
  {
   "cell_type": "code",
   "execution_count": 3,
   "metadata": {},
   "outputs": [],
   "source": [
    "def get_response_text(responses):\n",
    "    transcripts = []\n",
    "    for response in responses:\n",
    "        if not response.results:\n",
    "            continue\n",
    "\n",
    "        result = response.results[0]\n",
    "\n",
    "        if not result.alternatives:\n",
    "            continue\n",
    "\n",
    "        transcripts.append(result.alternatives[0].transcript)\n",
    "    return transcripts[-1]"
   ]
  },
  {
   "cell_type": "code",
   "execution_count": 4,
   "metadata": {},
   "outputs": [],
   "source": [
    "def speech_to_text(client, language_code, player):\n",
    "    config = types.RecognitionConfig(\n",
    "        encoding=enums.RecognitionConfig.AudioEncoding.LINEAR16,\n",
    "        sample_rate_hertz=RATE,\n",
    "        language_code=language_code)\n",
    "    streaming_config = types.StreamingRecognitionConfig(\n",
    "        config=config,\n",
    "        interim_results=True)\n",
    "    \n",
    "    frames = record_voice(player)\n",
    "    \n",
    "    requests = (types.StreamingRecognizeRequest(audio_content=content)\n",
    "                for content in frames)\n",
    "\n",
    "    responses = client.streaming_recognize(streaming_config, requests)\n",
    "    return get_response_text(responses)"
   ]
  },
  {
   "cell_type": "code",
   "execution_count": 5,
   "metadata": {},
   "outputs": [],
   "source": [
    "def translate(text, language_to):\n",
    "    # Пытался сначала использовать Google Transalation API,\n",
    "    # но на все запросы к нему прилетало 403 permission denied.\n",
    "    # Пришлось подключать Яндекс\n",
    "    import locale\n",
    "    locale.setlocale(locale.LC_ALL, '')\n",
    "\n",
    "    api_key = open(\"../lab6/yandex.translate.key\").read()   # todo your key in the file\n",
    "\n",
    "    from yandex.Translater import Translater\n",
    "    tr = Translater()\n",
    "    tr.set_key(api_key)\n",
    "    tr.set_text(text)\n",
    "    tr.set_from_lang(tr.detect_lang())\n",
    "    tr.set_to_lang(language_to[:2])\n",
    "\n",
    "    return tr.translate()"
   ]
  },
  {
   "cell_type": "code",
   "execution_count": 6,
   "metadata": {},
   "outputs": [],
   "source": [
    "def text_to_speech(client, text, language_to, player):\n",
    "    import base64\n",
    "    synthesis_input = texttospeech.types.SynthesisInput(text=text)\n",
    "\n",
    "    voice = texttospeech.types.VoiceSelectionParams(\n",
    "        language_code=language_to,\n",
    "        ssml_gender=texttospeech.enums.SsmlVoiceGender.FEMALE)\n",
    "\n",
    "    audio_config = texttospeech.types.AudioConfig(audio_encoding=texttospeech.enums.AudioEncoding.MP3)\n",
    "    response = client.synthesize_speech(synthesis_input, voice, audio_config)\n",
    "    \n",
    "    with open('out.mp3', 'wb') as speech:\n",
    "        speech.write(response.audio_content)\n",
    "    playsound('out.mp3')"
   ]
  },
  {
   "cell_type": "code",
   "execution_count": 120,
   "metadata": {},
   "outputs": [
    {
     "name": "stdout",
     "output_type": "stream",
     "text": [
      "Start recording... recorded 3 second(s)\n"
     ]
    }
   ],
   "source": [
    "def main():\n",
    "    language_from = 'ru-RU'\n",
    "    language_to = \"en-US\"\n",
    "    \n",
    "    credentials = service_account.Credentials.from_service_account_file(\"/home/kn/practicalAI/lab7/googleSpeech.json\")\n",
    "    clientSpeech = speech.SpeechClient(credentials=credentials)\n",
    "    clientText = texttospeech.TextToSpeechClient(credentials=credentials)\n",
    "    player = pyaudio.PyAudio()\n",
    "    \n",
    "    text = speech_to_text(clientSpeech, language_from, player)\n",
    "    translated_text = translate(text, language_to)\n",
    "    text_to_speech(clientText, translated_text, language_to, player)\n",
    "    \n",
    "\n",
    "if __name__ == '__main__':\n",
    "    main()"
   ]
  },
  {
   "cell_type": "code",
   "execution_count": null,
   "metadata": {},
   "outputs": [],
   "source": []
  },
  {
   "cell_type": "code",
   "execution_count": null,
   "metadata": {},
   "outputs": [],
   "source": []
  }
 ],
 "metadata": {
  "kernelspec": {
   "display_name": "Python 3",
   "language": "python",
   "name": "python3"
  },
  "language_info": {
   "codemirror_mode": {
    "name": "ipython",
    "version": 3
   },
   "file_extension": ".py",
   "mimetype": "text/x-python",
   "name": "python",
   "nbconvert_exporter": "python",
   "pygments_lexer": "ipython3",
   "version": "3.6.9"
  }
 },
 "nbformat": 4,
 "nbformat_minor": 2
}
