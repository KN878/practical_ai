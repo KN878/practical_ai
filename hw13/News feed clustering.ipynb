{
 "cells": [
  {
   "cell_type": "code",
   "execution_count": 4,
   "metadata": {},
   "outputs": [],
   "source": [
    "from gensim.models import Word2Vec\n",
    "from sklearn.cluster import KMeans\n",
    "from sklearn import metrics\n",
    "import numpy as np"
   ]
  },
  {
   "cell_type": "code",
   "execution_count": 5,
   "metadata": {},
   "outputs": [],
   "source": [
    "model_path = \"model/word2vec.bin\"\n",
    "model  = Word2Vec.load(model_path)"
   ]
  },
  {
   "cell_type": "code",
   "execution_count": 6,
   "metadata": {},
   "outputs": [
    {
     "name": "stdout",
     "output_type": "stream",
     "text": [
      "['space', 'languages', 'geography', 'easter', 'cryptocurrency', 'chemistry', 'internet', 'social networks', 'ancient rome', 'ships', 'electricity', 'ancient world', 'geology', 'religion', 'travel', 'memes', 'education', 'education', 'vaccinations', 'computers', 'flu', 'google', 'browsers', 'games', 'easter eggs', 'search engines', 'english', 'ancient greece', 'health', 'smartphones', 'psychology', 'psychotherapy']\n"
     ]
    }
   ],
   "source": [
    "news_feed = []\n",
    "with open('news_feed.txt', 'r') as f:\n",
    "    news_feed = [s.lower() for s in f.read().splitlines()]\n",
    "print(news_feed)"
   ]
  },
  {
   "cell_type": "code",
   "execution_count": 7,
   "metadata": {},
   "outputs": [
    {
     "data": {
      "text/plain": [
       "(359, 2890)"
      ]
     },
     "execution_count": 7,
     "metadata": {},
     "output_type": "execute_result"
    }
   ],
   "source": [
    "model.build_vocab(news_feed, update=True)\n",
    "model.train(news_feed, total_examples=model.corpus_count, epochs=10)"
   ]
  },
  {
   "cell_type": "code",
   "execution_count": 20,
   "metadata": {},
   "outputs": [],
   "source": [
    "feed_embeddings = []\n",
    "for words in news_feed:\n",
    "    embedding_sum = np.zeros(300)\n",
    "    word_embedding = []\n",
    "    for word in words.split(' '):\n",
    "        embedding_sum = np.sum([embedding_sum, model.wv[word.lower()]], axis=0)\n",
    "    feed_embeddings.append(embedding_sum)"
   ]
  },
  {
   "cell_type": "code",
   "execution_count": 24,
   "metadata": {},
   "outputs": [],
   "source": [
    "best_centroids = None\n",
    "best_score = 0\n",
    "scores = []\n",
    "MIN_CLUSTERS, MAX_CLUSTERS = (5, 15)\n",
    "for n_clusters in range(MIN_CLUSTERS, MAX_CLUSTERS):\n",
    "    kmeans = KMeans(n_clusters=n_clusters, random_state=0).fit(feed_embeddings)\n",
    "    score = metrics.silhouette_score(feed_embeddings, kmeans.labels_, metric='euclidean')\n",
    "    scores.append(score)\n",
    "    if best_score < score:\n",
    "        best_score = score\n",
    "        best_centroids = kmeans.cluster_centers_"
   ]
  },
  {
   "cell_type": "code",
   "execution_count": 25,
   "metadata": {},
   "outputs": [
    {
     "data": {
      "image/png": "[encoded data removed]",
      "text/plain": [
       "<Figure size 432x288 with 1 Axes>"
      ]
     },
     "metadata": {
      "needs_background": "light"
     },
     "output_type": "display_data"
    }
   ],
   "source": [
    "import matplotlib.pyplot as plt\n",
    "plt.plot(range(MIN_CLUSTERS, MAX_CLUSTERS), scores)\n",
    "plt.xlabel('Number of clusters')\n",
    "plt.ylabel('Silhoutte score')\n",
    "plt.show()"
   ]
  },
  {
   "cell_type": "code",
   "execution_count": 26,
   "metadata": {},
   "outputs": [
    {
     "name": "stdout",
     "output_type": "stream",
     "text": [
      "1 cryptocurrency\n",
      "2 education\n",
      "3 internet\n",
      "4 ancient world\n",
      "5 memes\n",
      "6 easter\n"
     ]
    }
   ],
   "source": [
    "for i, center in enumerate(best_centroids):\n",
    "    feed_id = np.argmin(np.linalg.norm(feed_embeddings - center, axis=1))\n",
    "    print(i + 1, news_feed[feed_id])"
   ]
  },
  {
   "cell_type": "code",
   "execution_count": null,
   "metadata": {},
   "outputs": [],
   "source": []
  }
 ],
 "metadata": {
  "kernelspec": {
   "display_name": "Python 3",
   "language": "python",
   "name": "python3"
  },
  "language_info": {
   "codemirror_mode": {
    "name": "ipython",
    "version": 3
   },
   "file_extension": ".py",
   "mimetype": "text/x-python",
   "name": "python",
   "nbconvert_exporter": "python",
   "pygments_lexer": "ipython3",
   "version": "3.6.9"
  }
 },
 "nbformat": 4,
 "nbformat_minor": 2
}
