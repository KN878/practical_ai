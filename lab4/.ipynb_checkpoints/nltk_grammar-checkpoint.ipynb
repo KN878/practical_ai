{
 "cells": [
  {
   "cell_type": "code",
   "execution_count": 1,
   "metadata": {},
   "outputs": [
    {
     "name": "stdout",
     "output_type": "stream",
     "text": [
      "Possible sentence structure:\n",
      " (S\n",
      "  (NP I)\n",
      "  (VP\n",
      "    (VP (V shot) (NP (Det an) (N elephant)))\n",
      "    (PP (P in) (NP (Det my) (N pajamas)))))\n",
      "Possible sentence structure:\n",
      " (S\n",
      "  (NP I)\n",
      "  (VP\n",
      "    (V shot)\n",
      "    (NP (Det an) (N elephant) (PP (P in) (NP (Det my) (N pajamas))))))\n"
     ]
    }
   ],
   "source": [
    "import nltk\n",
    "# grammar - https://stackoverflow.com/questions/6115677/english-grammar-for-parsing-in-nltk\n",
    "# you can specify your own simple grammar\n",
    "\n",
    "tokens = \"I shot an elephant in my pajamas\".split()\n",
    "my_grammar = nltk.CFG.fromstring(\"\"\"\n",
    "    S -> NP VP\n",
    "    PP -> P NP\n",
    "    NP -> Det N | Det N PP | 'I'\n",
    "    VP -> V NP | VP PP\n",
    "    Det -> 'an' | 'my'\n",
    "    N -> 'elephant' | 'pajamas'\n",
    "    V -> 'shot'\n",
    "    P -> 'in'\n",
    "\"\"\")\n",
    "\n",
    "# there are lots of parsing algorithms: see http://www.nltk.org/book/ch08.html\n",
    "# Each parser need a grammar as input\n",
    "parser = nltk.ChartParser(my_grammar)\n",
    "trees = list(parser.parse(tokens))\n",
    "\n",
    "for tree in trees:\n",
    "    print(\"Possible sentence structure:\\n\", tree)\n",
    "    tree.draw()"
   ]
  },
  {
   "cell_type": "code",
   "execution_count": 2,
   "metadata": {},
   "outputs": [
    {
     "name": "stdout",
     "output_type": "stream",
     "text": [
      " NP\n",
      "\t I\n",
      " VP\n",
      "\t VP\n",
      "\t\t V\n",
      "\t\t\t shot\n",
      "\t\t NP\n",
      "\t\t\t Det\n",
      "\t\t\t\t an\n",
      "\t\t\t N\n",
      "\t\t\t\t elephant\n",
      "\t PP\n",
      "\t\t P\n",
      "\t\t\t in\n",
      "\t\t NP\n",
      "\t\t\t Det\n",
      "\t\t\t\t my\n",
      "\t\t\t N\n",
      "\t\t\t\t pajamas\n"
     ]
    }
   ],
   "source": [
    "def traverse(tree, tab):\n",
    "    for subtree in tree:\n",
    "        if type(subtree) != str:\n",
    "            print(tab, subtree.label())\n",
    "            traverse(subtree, \"\\t\" + tab)\n",
    "        else:\n",
    "            print(tab, subtree)\n",
    "\n",
    "traverse(trees[0], \"\")"
   ]
  }
 ],
 "metadata": {
  "kernelspec": {
   "display_name": "Python 3",
   "language": "python",
   "name": "python3"
  },
  "language_info": {
   "codemirror_mode": {
    "name": "ipython",
    "version": 3
   },
   "file_extension": ".py",
   "mimetype": "text/x-python",
   "name": "python",
   "nbconvert_exporter": "python",
   "pygments_lexer": "ipython3",
   "version": "3.6.9"
  }
 },
 "nbformat": 4,
 "nbformat_minor": 4
}
