{
 "cells": [
  {
   "cell_type": "code",
   "execution_count": 1,
   "metadata": {},
   "outputs": [
    {
     "name": "stdout",
     "output_type": "stream",
     "text": [
      "Possible sentence structure:\n",
      " (S (OPERATOR move (DIRECTION left)))\n"
     ]
    }
   ],
   "source": [
    "import nltk\n",
    "# grammar - https://stackoverflow.com/questions/6115677/english-grammar-for-parsing-in-nltk\n",
    "# you can specify your own simple grammar\n",
    "\n",
    "tokens = \"move left\".split()\n",
    "my_grammar = nltk.CFG.fromstring(\"\"\"\n",
    "    S -> OPERATOR\n",
    "    OPERATOR -> 'move' DIRECTION\n",
    "    DIRECTION -> 'up' | 'down' | 'left' | 'right'\n",
    "\"\"\")\n",
    "\n",
    "# there are lots of parsing algorithms: see http://www.nltk.org/book/ch08.html\n",
    "# Each parser need a grammar as input\n",
    "parser = nltk.ChartParser(my_grammar)\n",
    "trees = list(parser.parse(tokens))\n",
    "\n",
    "for tree in trees:\n",
    "    print(\"Possible sentence structure:\\n\", tree)\n",
    "    tree.draw()"
   ]
  },
  {
   "cell_type": "code",
   "execution_count": 2,
   "metadata": {},
   "outputs": [
    {
     "name": "stdout",
     "output_type": "stream",
     "text": [
      " OPERATOR\n",
      "\t move\n",
      "\t DIRECTION\n",
      "\t\t left\n"
     ]
    }
   ],
   "source": [
    "def traverse(tree, tab):\n",
    "    for subtree in tree:\n",
    "        if type(subtree) != str:\n",
    "            print(tab, subtree.label())\n",
    "            traverse(subtree, \"\\t\" + tab)\n",
    "        else:\n",
    "            print(tab, subtree)\n",
    "\n",
    "traverse(trees[0], \"\")"
   ]
  },
  {
   "cell_type": "code",
   "execution_count": null,
   "metadata": {},
   "outputs": [],
   "source": []
  }
 ],
 "metadata": {
  "kernelspec": {
   "display_name": "Python 3",
   "language": "python",
   "name": "python3"
  },
  "language_info": {
   "codemirror_mode": {
    "name": "ipython",
    "version": 3
   },
   "file_extension": ".py",
   "mimetype": "text/x-python",
   "name": "python",
   "nbconvert_exporter": "python",
   "pygments_lexer": "ipython3",
   "version": "3.6.9"
  }
 },
 "nbformat": 4,
 "nbformat_minor": 4
}
